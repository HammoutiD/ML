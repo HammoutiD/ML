{
 "cells": [
  {
   "cell_type": "markdown",
   "metadata": {
    "id": "exZjZgYMzLvX"
   },
   "source": [
    "<img style=\"float: left; padding-right: 10px; width: 45px\" src=\"https://upload.wikimedia.org/wikipedia/fr/b/b1/Logo_EPF.png?raw=true\"> \n",
    "\n",
    "# Introduction to Machine Learning\n",
    "**P2024: Data engineering**<br>\n",
    "\n",
    "\n",
    "## Lab 3:  Dealing with imbalanced datasets\n",
    "\n",
    "### First name: Douae\n",
    "### Last name: HAMMOUTI \n",
    "### Group: DEA2\n",
    "\n",
    "\n",
    "---"
   ]
  },
  {
   "cell_type": "markdown",
   "metadata": {
    "_uuid": "3c8c5c5f2f6bc7ab03bb842ddffdfb34ea87607c",
    "id": "fhtkCx8JxP-w"
   },
   "source": [
    "# Introduction\n",
    "Imbalanced classes are a common problem in machine learning classification where there are a disproportionate ratio of observations in each class.  Class imbalance can be found in many different areas including medical diagnosis, spam filtering, ad-click prediction and fraud detection.\n",
    "\n",
    "In this guide, we'll look at five possible ways to handle an imbalanced class problem using credit card data. <br>**Our objective will be to correctly classify fraudulent credit card transactions.**"
   ]
  },
  {
   "cell_type": "code",
   "execution_count": 1,
   "metadata": {
    "_cell_guid": "b1076dfc-b9ad-4769-8c92-a6c4dae69d19",
    "_uuid": "8f2839f25d086af736a60e9eeb907d3b93b6e0e5",
    "id": "Hs7Gnj1yxP_d"
   },
   "outputs": [],
   "source": [
    "# useful libraries\n",
    "import numpy as np\n",
    "import pandas as pd\n",
    "import matplotlib.pyplot as plt\n",
    "import seaborn as sns\n",
    "\n",
    "# ignore warnings\n",
    "import warnings\n",
    "warnings.filterwarnings('ignore')"
   ]
  },
  {
   "cell_type": "code",
   "execution_count": 2,
   "metadata": {
    "_uuid": "9c68ba8512d7c66d58927843c103d467e18597a1",
    "id": "EsmBS2smxP_f"
   },
   "outputs": [],
   "source": [
    "# setting up default plotting parameters\n",
    "%matplotlib inline\n",
    "\n",
    "plt.rcParams['figure.figsize'] = [20.0, 7.0]\n",
    "plt.rcParams.update({'font.size': 22,})\n",
    "\n",
    "sns.set_palette('viridis')\n",
    "sns.set_style('white')\n",
    "sns.set_context('talk', font_scale=0.8)"
   ]
  },
  {
   "cell_type": "code",
   "execution_count": 3,
   "metadata": {
    "_cell_guid": "79c7e3d0-c299-4dcb-8224-4455121ee9b0",
    "_uuid": "d629ff2d2480ee46fbb7e2d37f6b5fab8052498a",
    "id": "nMcX3gbwxP_f"
   },
   "outputs": [
    {
     "name": "stdout",
     "output_type": "stream",
     "text": [
      "(28481, 31)\n"
     ]
    },
    {
     "data": {
      "text/html": [
       "<div>\n",
       "<style scoped>\n",
       "    .dataframe tbody tr th:only-of-type {\n",
       "        vertical-align: middle;\n",
       "    }\n",
       "\n",
       "    .dataframe tbody tr th {\n",
       "        vertical-align: top;\n",
       "    }\n",
       "\n",
       "    .dataframe thead th {\n",
       "        text-align: right;\n",
       "    }\n",
       "</style>\n",
       "<table border=\"1\" class=\"dataframe\">\n",
       "  <thead>\n",
       "    <tr style=\"text-align: right;\">\n",
       "      <th></th>\n",
       "      <th>Time</th>\n",
       "      <th>V1</th>\n",
       "      <th>V2</th>\n",
       "      <th>V3</th>\n",
       "      <th>V4</th>\n",
       "      <th>V5</th>\n",
       "      <th>V6</th>\n",
       "      <th>V7</th>\n",
       "      <th>V8</th>\n",
       "      <th>V9</th>\n",
       "      <th>...</th>\n",
       "      <th>V21</th>\n",
       "      <th>V22</th>\n",
       "      <th>V23</th>\n",
       "      <th>V24</th>\n",
       "      <th>V25</th>\n",
       "      <th>V26</th>\n",
       "      <th>V27</th>\n",
       "      <th>V28</th>\n",
       "      <th>Amount</th>\n",
       "      <th>Class</th>\n",
       "    </tr>\n",
       "  </thead>\n",
       "  <tbody>\n",
       "    <tr>\n",
       "      <th>0</th>\n",
       "      <td>59632.0</td>\n",
       "      <td>-0.365570</td>\n",
       "      <td>0.857326</td>\n",
       "      <td>1.601891</td>\n",
       "      <td>1.276523</td>\n",
       "      <td>0.265923</td>\n",
       "      <td>0.225669</td>\n",
       "      <td>0.456214</td>\n",
       "      <td>0.188240</td>\n",
       "      <td>-0.692619</td>\n",
       "      <td>...</td>\n",
       "      <td>0.087559</td>\n",
       "      <td>0.473280</td>\n",
       "      <td>-0.137397</td>\n",
       "      <td>0.244391</td>\n",
       "      <td>-0.272493</td>\n",
       "      <td>-0.283047</td>\n",
       "      <td>0.193123</td>\n",
       "      <td>0.143190</td>\n",
       "      <td>1.00</td>\n",
       "      <td>0</td>\n",
       "    </tr>\n",
       "    <tr>\n",
       "      <th>1</th>\n",
       "      <td>62189.0</td>\n",
       "      <td>1.023773</td>\n",
       "      <td>-0.193395</td>\n",
       "      <td>1.276809</td>\n",
       "      <td>1.271923</td>\n",
       "      <td>-0.847045</td>\n",
       "      <td>0.411318</td>\n",
       "      <td>-0.720179</td>\n",
       "      <td>0.374841</td>\n",
       "      <td>0.878952</td>\n",
       "      <td>...</td>\n",
       "      <td>0.051391</td>\n",
       "      <td>0.273518</td>\n",
       "      <td>0.102789</td>\n",
       "      <td>0.057612</td>\n",
       "      <td>0.152152</td>\n",
       "      <td>-0.372631</td>\n",
       "      <td>0.091121</td>\n",
       "      <td>0.035413</td>\n",
       "      <td>23.42</td>\n",
       "      <td>0</td>\n",
       "    </tr>\n",
       "    <tr>\n",
       "      <th>2</th>\n",
       "      <td>75530.0</td>\n",
       "      <td>-0.997827</td>\n",
       "      <td>0.925281</td>\n",
       "      <td>0.616181</td>\n",
       "      <td>0.009446</td>\n",
       "      <td>-0.025082</td>\n",
       "      <td>-0.828361</td>\n",
       "      <td>0.628374</td>\n",
       "      <td>0.276775</td>\n",
       "      <td>-0.991345</td>\n",
       "      <td>...</td>\n",
       "      <td>0.155928</td>\n",
       "      <td>0.328605</td>\n",
       "      <td>0.179409</td>\n",
       "      <td>0.351494</td>\n",
       "      <td>-0.285212</td>\n",
       "      <td>0.238287</td>\n",
       "      <td>-0.118637</td>\n",
       "      <td>0.033654</td>\n",
       "      <td>42.81</td>\n",
       "      <td>0</td>\n",
       "    </tr>\n",
       "    <tr>\n",
       "      <th>3</th>\n",
       "      <td>99940.0</td>\n",
       "      <td>-2.950527</td>\n",
       "      <td>-1.300757</td>\n",
       "      <td>1.421298</td>\n",
       "      <td>3.134102</td>\n",
       "      <td>4.604562</td>\n",
       "      <td>-1.773035</td>\n",
       "      <td>-0.561876</td>\n",
       "      <td>0.129093</td>\n",
       "      <td>-1.034959</td>\n",
       "      <td>...</td>\n",
       "      <td>0.397170</td>\n",
       "      <td>0.443959</td>\n",
       "      <td>-0.201887</td>\n",
       "      <td>-0.371432</td>\n",
       "      <td>1.441045</td>\n",
       "      <td>0.293148</td>\n",
       "      <td>-0.188636</td>\n",
       "      <td>0.073548</td>\n",
       "      <td>1.00</td>\n",
       "      <td>0</td>\n",
       "    </tr>\n",
       "    <tr>\n",
       "      <th>4</th>\n",
       "      <td>168047.0</td>\n",
       "      <td>2.089662</td>\n",
       "      <td>0.064907</td>\n",
       "      <td>-2.295436</td>\n",
       "      <td>0.318867</td>\n",
       "      <td>0.781676</td>\n",
       "      <td>-0.648774</td>\n",
       "      <td>0.281364</td>\n",
       "      <td>-0.187433</td>\n",
       "      <td>0.576539</td>\n",
       "      <td>...</td>\n",
       "      <td>-0.276488</td>\n",
       "      <td>-0.754165</td>\n",
       "      <td>0.155672</td>\n",
       "      <td>-0.082590</td>\n",
       "      <td>-0.027077</td>\n",
       "      <td>0.380547</td>\n",
       "      <td>-0.084189</td>\n",
       "      <td>-0.042292</td>\n",
       "      <td>18.79</td>\n",
       "      <td>0</td>\n",
       "    </tr>\n",
       "  </tbody>\n",
       "</table>\n",
       "<p>5 rows × 31 columns</p>\n",
       "</div>"
      ],
      "text/plain": [
       "       Time        V1        V2        V3        V4        V5        V6  \\\n",
       "0   59632.0 -0.365570  0.857326  1.601891  1.276523  0.265923  0.225669   \n",
       "1   62189.0  1.023773 -0.193395  1.276809  1.271923 -0.847045  0.411318   \n",
       "2   75530.0 -0.997827  0.925281  0.616181  0.009446 -0.025082 -0.828361   \n",
       "3   99940.0 -2.950527 -1.300757  1.421298  3.134102  4.604562 -1.773035   \n",
       "4  168047.0  2.089662  0.064907 -2.295436  0.318867  0.781676 -0.648774   \n",
       "\n",
       "         V7        V8        V9  ...       V21       V22       V23       V24  \\\n",
       "0  0.456214  0.188240 -0.692619  ...  0.087559  0.473280 -0.137397  0.244391   \n",
       "1 -0.720179  0.374841  0.878952  ...  0.051391  0.273518  0.102789  0.057612   \n",
       "2  0.628374  0.276775 -0.991345  ...  0.155928  0.328605  0.179409  0.351494   \n",
       "3 -0.561876  0.129093 -1.034959  ...  0.397170  0.443959 -0.201887 -0.371432   \n",
       "4  0.281364 -0.187433  0.576539  ... -0.276488 -0.754165  0.155672 -0.082590   \n",
       "\n",
       "        V25       V26       V27       V28  Amount  Class  \n",
       "0 -0.272493 -0.283047  0.193123  0.143190    1.00      0  \n",
       "1  0.152152 -0.372631  0.091121  0.035413   23.42      0  \n",
       "2 -0.285212  0.238287 -0.118637  0.033654   42.81      0  \n",
       "3  1.441045  0.293148 -0.188636  0.073548    1.00      0  \n",
       "4 -0.027077  0.380547 -0.084189 -0.042292   18.79      0  \n",
       "\n",
       "[5 rows x 31 columns]"
      ]
     },
     "execution_count": 3,
     "metadata": {},
     "output_type": "execute_result"
    }
   ],
   "source": [
    "# read in data\n",
    "df = pd.read_csv('creditcard_sampled_10_percent.csv')\n",
    "\n",
    "print(df.shape)\n",
    "df.head()"
   ]
  },
  {
   "cell_type": "markdown",
   "metadata": {
    "id": "BlNpknjsGlMJ"
   },
   "source": [
    "**In the complete dataset, there are 492 fraudulent operations and 284315 valid operations.** <br>\n",
    "\n",
    "**However, during the lab, we will use a sampled dataset. You can however play with the real dataset afterwards**"
   ]
  },
  {
   "cell_type": "code",
   "execution_count": 4,
   "metadata": {
    "_uuid": "c7d92ecec94ee2633bd378b3d55100c6b9362636",
    "id": "t_f5PuXFxP_g"
   },
   "outputs": [
    {
     "name": "stdout",
     "output_type": "stream",
     "text": [
      "Class\n",
      "0    28429\n",
      "1       52\n",
      "Name: count, dtype: int64\n"
     ]
    }
   ],
   "source": [
    "print(df.Class.value_counts())"
   ]
  },
  {
   "cell_type": "code",
   "execution_count": 5,
   "metadata": {
    "collapsed": false
   },
   "outputs": [
    {
     "data": {
      "image/png": "[encoded data removed]",
      "text/plain": [
       "<Figure size 2000x700 with 1 Axes>"
      ]
     },
     "metadata": {},
     "output_type": "display_data"
    }
   ],
   "source": [
    "fig, ax = plt.subplots()\n",
    "g = sns.countplot(data=df, x='Class', palette='viridis')\n",
    "g.set_xticklabels(['Not Fraud', 'Fraud'])\n",
    "\n",
    "def show_values_on_bars(ax):\n",
    "    for p in ax.patches:\n",
    "        _x = p.get_x() + p.get_width() / 2\n",
    "        _y = p.get_y() + p.get_height()\n",
    "        value = '{:.0f}'.format(p.get_height())\n",
    "        ax.text(_x, _y, value, ha=\"center\")\n",
    "\n",
    "show_values_on_bars(ax)\n",
    "\n",
    "sns.despine(left=True, bottom=True)\n",
    "plt.xlabel('')\n",
    "plt.ylabel('')\n",
    "plt.title('Distribution of Transactions', fontsize=30)\n",
    "plt.xticks(fontsize=8)  # Adjust the font size of x-axis tick labels\n",
    "\n",
    "plt.show()"
   ]
  },
  {
   "cell_type": "code",
   "execution_count": 6,
   "metadata": {
    "_uuid": "00001b711204cdcfe0a91021db7197bb81e1b6b0",
    "id": "eJPs31KnxP_h"
   },
   "outputs": [
    {
     "data": {
      "image/png": "[encoded data removed]",
      "text/plain": [
       "<Figure size 2000x700 with 1 Axes>"
      ]
     },
     "metadata": {},
     "output_type": "display_data"
    }
   ],
   "source": [
    "# using seaborns countplot to show distribution of transactions in dataset\n",
    "fig, ax = plt.subplots()\n",
    "g = sns.countplot(df.Class, palette='viridis')\n",
    "g.set_xticklabels(['Not Fraud', 'Fraud'])\n",
    "g.set_yticklabels([])\n",
    "\n",
    "# function to show values on bars\n",
    "def show_values_on_bars(axs):\n",
    "    def _show_on_single_plot(ax):        \n",
    "        for p in ax.patches:\n",
    "            _x = p.get_x() + p.get_width() / 2\n",
    "            _y = p.get_y() + p.get_height()\n",
    "            value = '{:.0f}'.format(p.get_height())\n",
    "            ax.text(_x, _y, value, ha=\"center\") \n",
    "\n",
    "    if isinstance(axs, np.ndarray):\n",
    "        for idx, ax in np.ndenumerate(axs):\n",
    "            _show_on_single_plot(ax)\n",
    "    else:\n",
    "        _show_on_single_plot(axs)\n",
    "show_values_on_bars(ax)\n",
    "\n",
    "sns.despine(left=True, bottom=True)\n",
    "plt.xlabel('')\n",
    "plt.ylabel('')\n",
    "plt.title('Distribution of Transactions', fontsize=30)\n",
    "plt.tick_params(axis='x', which='major', labelsize=15)\n",
    "\n",
    "plt.show()"
   ]
  },
  {
   "cell_type": "markdown",
   "metadata": {
    "id": "i7zTapQwAdYV"
   },
   "source": [
    "**Exercise :** \n",
    "Compute the percentage of fraudulent transactions (ie: when Class == 1)"
   ]
  },
  {
   "cell_type": "code",
   "execution_count": 8,
   "metadata": {
    "_uuid": "a22d03aa7bf5b358cfbc7ca946f3367b98e9faa2",
    "id": "adCuZZcKxP_h"
   },
   "outputs": [
    {
     "name": "stdout",
     "output_type": "stream",
     "text": [
      "Percentage of fraudulent transactions when class ==1 : 0.1826%\n"
     ]
    }
   ],
   "source": [
    "# TODO: Code here\n",
    "\n",
    "total_transactions = df.shape[0]\n",
    "\n",
    "fraud_transactions = df[df['Class'] == 1].shape[0]\n",
    "\n",
    "fraud_percentage = (fraud_transactions / total_transactions) * 100\n",
    "\n",
    "print(f\"Percentage of fraudulent transactions when class ==1 : {fraud_percentage:.4f}%\")\n"
   ]
  },
  {
   "cell_type": "markdown",
   "metadata": {
    "_uuid": "460b8fbc891a865d755de263e832474d22718577",
    "id": "ss4_cT0wxP_i"
   },
   "source": [
    "From the plot above, we can see we have a very imbalanced class -  just 0.17% of our dataset belong to the target class!\n",
    "\n",
    "This is a problem because many machine learning models are designed to maximize overall accuracy, which especially with imbalanced classes may not be the best metric to use. Classification accuracy is defined as the number of correct predictions divided by total predictions times 100. For example, if we simply predicted all transactions are not fraud, we would get a classification acuracy score of over 99%!\n",
    "\n",
    "### Create Train and Test Sets\n",
    "\n",
    "The training set is used to build and validate the model, while the test set is reserved for testing the model on unseen data."
   ]
  },
  {
   "cell_type": "markdown",
   "metadata": {
    "id": "D2zvIIV59eKS"
   },
   "source": [
    "**Exercise :** Separate the dataset into y and X. y being the traget column and X the features."
   ]
  },
  {
   "cell_type": "code",
   "execution_count": 9,
   "metadata": {
    "_uuid": "876d7f98c708ae91ce22f728d63abdbb1c573fac",
    "id": "3LmbLWV2xP_i"
   },
   "outputs": [],
   "source": [
    "from sklearn.model_selection import train_test_split\n",
    "\n",
    "# Prepare data for modeling\n",
    "# TODO: Code here\n",
    "y = df['Class']\n",
    "X = df.drop('Class', axis=1)\n",
    "\n",
    "# setting up testing and training sets\n",
    "X_train, X_test, y_train, y_test = train_test_split(X, y, test_size=0.25, random_state=27)"
   ]
  },
  {
   "cell_type": "markdown",
   "metadata": {
    "_uuid": "f5b635aecad2e3a59eee638e62194f02855f4f8f",
    "id": "Rn7VGjVnxP_j"
   },
   "source": [
    "## Baseline Models"
   ]
  },
  {
   "cell_type": "code",
   "execution_count": 10,
   "metadata": {
    "_uuid": "537af7e533e55efc91ecda7a6f80b4c88bac39a1",
    "id": "gU1kpxXHxP_j"
   },
   "outputs": [
    {
     "name": "stdout",
     "output_type": "stream",
     "text": [
      "Unique predicted labels:  [0]\n"
     ]
    }
   ],
   "source": [
    "from sklearn.dummy import DummyClassifier\n",
    "\n",
    "# DummyClassifier to predict only target 0\n",
    "dummy = DummyClassifier(strategy='most_frequent').fit(X_train, y_train)\n",
    "dummy_pred = dummy.predict(X_test)\n",
    "\n",
    "# checking unique labels\n",
    "print('Unique predicted labels: ', (np.unique(dummy_pred)))"
   ]
  },
  {
   "cell_type": "markdown",
   "metadata": {
    "id": "A9_ofns04J_r"
   },
   "source": [
    "As we can see, our Dummy Classifier predicts target == 0 (No fraud) for all the test set. <br>\n",
    "\n",
    "**Exerice :** Compute the accuracy of the dummy classifier using two different ways :\n",
    "*   First with your own code (can be a loop or manipulation of numpy arrays)\n",
    "*   Then using `accuracy_score` from `sklearn.metrics`\n",
    "\n",
    "**Accuracy is the fraction of predictions our model got right. Formally, accuracy has the following definition:**\n",
    "$$ \\text{Accuracy} = \\frac{\\text{Number of correct predictions}}{\\text{Number of total predictions}}$$\n"
   ]
  },
  {
   "cell_type": "code",
   "execution_count": 13,
   "metadata": {
    "id": "YsJ_a1jm11z1"
   },
   "outputs": [
    {
     "name": "stdout",
     "output_type": "stream",
     "text": [
      "Manual accuracy: 0.9986\n",
      "Sklearn accuracy: 0.9986\n"
     ]
    }
   ],
   "source": [
    "# TODO: Code here\n",
    "# TODO: accuracy with your own code\n",
    "\n",
    "correct_predictions = (dummy_pred == y_test).sum()\n",
    "total_predictions = len(y_test)\n",
    "manual_accuracy = correct_predictions / total_predictions\n",
    "print(f\"Manual accuracy: {manual_accuracy:.4f}\")\n",
    "\n",
    "\n",
    "# TODO: accuracy with sklearn using sklearn.metrics.accuracy_score\n",
    "from sklearn.metrics import accuracy_score\n",
    "\n",
    "sklearn_accuracy = accuracy_score(y_test, dummy_pred)\n",
    "print(f\"Sklearn accuracy: {sklearn_accuracy:.4f}\")"
   ]
  },
  {
   "cell_type": "markdown",
   "metadata": {
    "_uuid": "4b3d37e60424e9bc6a0ffdf36bc667a7489ce186",
    "id": "CDyJzGYMxP_k"
   },
   "source": [
    "As predicted our accuracy score for classifying all transactions as not fraud is very high!  \n",
    "\n",
    "As the Dummy Classifier predicts only Class 0, it is clearly not a good option for our objective of correctly classifying fraudulent transactions.\n",
    "\n",
    "Let's see how logistic regression performs on this dataset."
   ]
  },
  {
   "cell_type": "code",
   "execution_count": 14,
   "metadata": {
    "_uuid": "3326dfa795f14d1f4357881c3dde02f84b5574dd",
    "id": "BTl_w-oNxP_k"
   },
   "outputs": [],
   "source": [
    "from sklearn.linear_model import LogisticRegression\n",
    "\n",
    "# Modeling the data as is\n",
    "# Train model\n",
    "lr = LogisticRegression(solver='liblinear').fit(X_train, y_train)\n",
    " \n",
    "# Predict on training set\n",
    "lr_pred = lr.predict(X_test)"
   ]
  },
  {
   "cell_type": "code",
   "execution_count": 15,
   "metadata": {
    "_uuid": "df5a5a9588b0d0ee1d9b80e94d1c63885718976d",
    "id": "hgFdf8krxP_l"
   },
   "outputs": [
    {
     "data": {
      "text/plain": [
       "0.9994382811402893"
      ]
     },
     "execution_count": 15,
     "metadata": {},
     "output_type": "execute_result"
    }
   ],
   "source": [
    "# Checking accuracy\n",
    "accuracy_score(y_test, lr_pred)"
   ]
  },
  {
   "cell_type": "code",
   "execution_count": 16,
   "metadata": {
    "_uuid": "64afcae23af7b0903f10fa0d2992de3a137e2c10",
    "id": "SryXqYCfxP_l"
   },
   "outputs": [
    {
     "data": {
      "text/plain": [
       "0\n",
       "0    7115\n",
       "1       6\n",
       "Name: count, dtype: int64"
      ]
     },
     "execution_count": 16,
     "metadata": {},
     "output_type": "execute_result"
    }
   ],
   "source": [
    "# Checking unique values\n",
    "predictions = pd.DataFrame(lr_pred)\n",
    "predictions[0].value_counts()"
   ]
  },
  {
   "cell_type": "markdown",
   "metadata": {
    "_uuid": "f50e9de7d0b21afebbdf41c36e30a3dd7e4204e0",
    "id": "dc2WyyyBxP_m"
   },
   "source": [
    "Logistic Regression outperformed the Dummy Classifier!  We can see that it predicted some instances of class 1, so this is definitely an improvement.  But can we do better?\n",
    "\n",
    "Let's see if we can apply some techniques for dealing with class imbalance to improve these results.\n",
    "\n",
    "## 1.  Change the performance metric\n",
    "Accuracy is not the best metric to use when evaluating imbalanced datasets as it can be misleading.  Metrics that can provide better insight include:\n",
    " - **Confusion Matrix:**  a talbe showing correct predictions and types of incorrect predictions.\n",
    " - **Precision:**  the number of true positives divided by all positive predictions. Precision is also called Positive Predictive Value. It is a measure of a classifier's exactness. Low precision indicates a high number of false positives.\n",
    " - **Recall:**  the number of true positives divided by the number of positive values in the test data. Recall is also called Sensitivity or the True Positive Rate. It is a measure of a classifier's completeness. Low recall indicates a high number of false negatives.\n",
    " - **F1: Score:**  the weighted average of precision and recall.\n",
    " \n",
    "Since our main objective with the dataset is to prioritize accuraltely classifying fraud cases the recall score can be considered our main metric to use for evaluating outcomes.<br>\n",
    "\n",
    "**How do we compute these metrics :**\n",
    "Let's code these metrics ourselves to make sure we understand what it is."
   ]
  },
  {
   "cell_type": "markdown",
   "metadata": {
    "id": "fgB9bxRFoPjw"
   },
   "source": [
    "**Exercise :** For the LogisticRegression model, compute true positives (`tp`), false positives (`fp`), false negatives (`fn`), true negatives (`tn`). You can find the formal definitions here https://en.wikipedia.org/wiki/Confusion_matrix"
   ]
  },
  {
   "cell_type": "code",
   "execution_count": 18,
   "metadata": {
    "id": "p0fcMfq7oS1C"
   },
   "outputs": [
    {
     "name": "stdout",
     "output_type": "stream",
     "text": [
      "TP: 6, FP: 0, FN: 4, TN: 7111\n"
     ]
    }
   ],
   "source": [
    "# TODO: Code here\n",
    "from sklearn.linear_model import LogisticRegression\n",
    "\n",
    "logreg = LogisticRegression(max_iter=1000).fit(X_train, y_train)\n",
    "y_pred_logreg = logreg.predict(X_test)\n",
    "\n",
    "# True Positives (TP): predicted 1, actually 1\n",
    "tp = ((y_pred_logreg == 1) & (y_test == 1)).sum()\n",
    "\n",
    "# False Positives (FP): predicted 1, actually 0\n",
    "fp = ((y_pred_logreg == 1) & (y_test == 0)).sum()\n",
    "\n",
    "# False Negatives (FN): predicted 0, actually 1\n",
    "fn = ((y_pred_logreg == 0) & (y_test == 1)).sum()\n",
    "\n",
    "# True Negatives (TN): predicted 0, actually 0\n",
    "tn = ((y_pred_logreg == 0) & (y_test == 0)).sum()\n",
    "\n",
    "print(f\"TP: {tp}, FP: {fp}, FN: {fn}, TN: {tn}\")\n",
    "\n"
   ]
  },
  {
   "cell_type": "markdown",
   "metadata": {
    "id": "bEoO62VoocZQ"
   },
   "source": [
    "**Exercise :** Compute the metrics `Precision`, `Recall` and `f1-score`."
   ]
  },
  {
   "cell_type": "code",
   "execution_count": 19,
   "metadata": {
    "id": "iXksWfoYodwk"
   },
   "outputs": [
    {
     "name": "stdout",
     "output_type": "stream",
     "text": [
      "Precision: 1.0000\n",
      "Recall: 0.6000\n",
      "F1-score: 0.7500\n"
     ]
    }
   ],
   "source": [
    "# TODO: Code here\n",
    "\n",
    "# Avoid division by zero with a small epsilon if needed\n",
    "epsilon = 1e-10\n",
    "\n",
    "# Precision\n",
    "precision = tp / (tp + fp + epsilon)\n",
    "\n",
    "# Recall\n",
    "recall = tp / (tp + fn + epsilon)\n",
    "\n",
    "# F1 Score\n",
    "f1_score = 2 * (precision * recall) / (precision + recall + epsilon)\n",
    "\n",
    "print(f\"Precision: {precision:.4f}\")\n",
    "print(f\"Recall: {recall:.4f}\")\n",
    "print(f\"F1-score: {f1_score:.4f}\")\n"
   ]
  },
  {
   "cell_type": "markdown",
   "metadata": {
    "id": "jE-TlVmCokdM"
   },
   "source": [
    "**How do we compute these metrics using sklearn:**\n",
    "Let's see how we compute these metrics using `sklearn.metrics`. We'll do it for the `LogisticRegression`. We need `y_test` which are the real test observations and we need `lr_pred` which are the predictions of the `LogisticRegression` on the test set."
   ]
  },
  {
   "cell_type": "code",
   "execution_count": 20,
   "metadata": {
    "id": "AwByqtYzCWNR"
   },
   "outputs": [
    {
     "name": "stdout",
     "output_type": "stream",
     "text": [
      "Accuracy is  0.9994382811402893\n",
      "F1-score is  0.75\n",
      "Recall is  0.6\n",
      "Confusion matrix is \n"
     ]
    },
    {
     "data": {
      "text/html": [
       "<div>\n",
       "<style scoped>\n",
       "    .dataframe tbody tr th:only-of-type {\n",
       "        vertical-align: middle;\n",
       "    }\n",
       "\n",
       "    .dataframe tbody tr th {\n",
       "        vertical-align: top;\n",
       "    }\n",
       "\n",
       "    .dataframe thead th {\n",
       "        text-align: right;\n",
       "    }\n",
       "</style>\n",
       "<table border=\"1\" class=\"dataframe\">\n",
       "  <thead>\n",
       "    <tr style=\"text-align: right;\">\n",
       "      <th></th>\n",
       "      <th>0</th>\n",
       "      <th>1</th>\n",
       "    </tr>\n",
       "  </thead>\n",
       "  <tbody>\n",
       "    <tr>\n",
       "      <th>0</th>\n",
       "      <td>7111</td>\n",
       "      <td>0</td>\n",
       "    </tr>\n",
       "    <tr>\n",
       "      <th>1</th>\n",
       "      <td>4</td>\n",
       "      <td>6</td>\n",
       "    </tr>\n",
       "  </tbody>\n",
       "</table>\n",
       "</div>"
      ],
      "text/plain": [
       "      0  1\n",
       "0  7111  0\n",
       "1     4  6"
      ]
     },
     "execution_count": 20,
     "metadata": {},
     "output_type": "execute_result"
    }
   ],
   "source": [
    "from sklearn.metrics import accuracy_score, f1_score, confusion_matrix, recall_score\n",
    "\n",
    "# Example on LogisticRegression\n",
    "print('Accuracy is ', accuracy_score(y_test, lr_pred))\n",
    "print('F1-score is ', f1_score(y_test, lr_pred))\n",
    "print('Recall is ', recall_score(y_test, lr_pred))\n",
    "print('Confusion matrix is ')\n",
    "pd.DataFrame(confusion_matrix(y_test, lr_pred)).head(2)"
   ]
  },
  {
   "cell_type": "markdown",
   "metadata": {
    "_uuid": "dffefb9a7656b70369b1392747345f1b7c5ad830",
    "collapsed": true,
    "id": "4dg1h9pXxP_o"
   },
   "source": [
    "We have a very high accuracy score of 0.999 but a F1 score of only 0.752.  And from the confusion matrix, we can see we are misclassifying several observations leading to a recall score of only 0.64.\n",
    "\n",
    "## 2. Change the algorithm\n",
    "While in every machine learning problem, its a good rule of thumb to try a variety of algorithms, it can be especially beneficial with imbalanced datasets.  Decision trees frequently perform well on imbalanced data.  They work by learning a hierachy of if/else questions.  This can force both classes to be addressed.\n",
    "\n"
   ]
  },
  {
   "cell_type": "markdown",
   "metadata": {
    "id": "rgUnnmxkD-G7"
   },
   "source": [
    "**Exercise** Use a `RandomForestClassifier` with `n_estimators=10` and compute the usual metrics (accuracy, f1-score, recall and confusion matrix)"
   ]
  },
  {
   "cell_type": "code",
   "execution_count": 21,
   "metadata": {
    "_uuid": "aa114a52def766752d99bdbb8798926b08bfa7c0",
    "id": "nLMJvCi0xP_o"
   },
   "outputs": [
    {
     "name": "stdout",
     "output_type": "stream",
     "text": [
      "Accuracy: 0.9996\n",
      "Recall: 0.7000\n",
      "F1-score: 0.8235\n",
      "Confusion Matrix:\n",
      "[[7111    0]\n",
      " [   3    7]]\n"
     ]
    }
   ],
   "source": [
    "# TODO: Code here\n",
    "from sklearn.ensemble import RandomForestClassifier\n",
    "from sklearn.metrics import accuracy_score, f1_score, recall_score, confusion_matrix\n",
    "\n",
    "# 1. Train the model\n",
    "rf = RandomForestClassifier(n_estimators=10, random_state=42)\n",
    "rf.fit(X_train, y_train)\n",
    "\n",
    "# 2. Predict\n",
    "y_pred_rf = rf.predict(X_test)\n",
    "\n",
    "# 3. Evaluate\n",
    "acc = accuracy_score(y_test, y_pred_rf)\n",
    "recall = recall_score(y_test, y_pred_rf)\n",
    "f1 = f1_score(y_test, y_pred_rf)\n",
    "cm = confusion_matrix(y_test, y_pred_rf)\n",
    "\n",
    "# 4. Display results\n",
    "print(f\"Accuracy: {acc:.4f}\")\n",
    "print(f\"Recall: {recall:.4f}\")\n",
    "print(f\"F1-score: {f1:.4f}\")\n",
    "print(\"Confusion Matrix:\")\n",
    "print(cm)\n",
    "\n"
   ]
  },
  {
   "cell_type": "markdown",
   "metadata": {
    "_uuid": "adead2ec74b7016ebc547ee60e0b44dc1189a2a4",
    "id": "3JhZb-LLxP_q"
   },
   "source": [
    "# Resampling Techniques\n",
    "\n",
    "## 3. Oversampling Minority Class\n",
    "Oversampling can be defined as adding more copies of the minority class.  Oversampling can be a good choice when you don't have a ton of data to work with.  A con to consider when undersampling is that it can cause overfitting and poor generalization to your test set.\n",
    "\n",
    "We will use the resampling module from Scikit-Learn to randomly replicate samples from the minority class.\n",
    "\n",
    "### **Important Note**\n",
    "Always split into test and train sets BEFORE trying any resampling techniques!  Oversampling before splitting the data can allow the exact same observations to be present in both the test and train sets!  This can allow our model to simply memorize specific data points and cause overfitting."
   ]
  },
  {
   "cell_type": "code",
   "execution_count": 22,
   "metadata": {
    "_uuid": "e48e7eb85c4b0a67c3f096726fef7b472e6b293d",
    "id": "X3cfMhP3xP_q"
   },
   "outputs": [],
   "source": [
    "from sklearn.utils import resample"
   ]
  },
  {
   "cell_type": "code",
   "execution_count": 23,
   "metadata": {
    "_uuid": "8d7567a5b4ebc92b3aaff6236f2253d969488993",
    "id": "rPbkitvmxP_r"
   },
   "outputs": [],
   "source": [
    "# Separate input features and target\n",
    "y = df.Class\n",
    "X = df.drop('Class', axis=1)\n",
    "\n",
    "# setting up testing and training sets\n",
    "X_train, X_test, y_train, y_test = train_test_split(X, y, test_size=0.25, random_state=27)"
   ]
  },
  {
   "cell_type": "code",
   "execution_count": 24,
   "metadata": {
    "_uuid": "523a5c12eb7520127ba53231e3872a21b3101ce7",
    "id": "_dgyN9KQxP_r"
   },
   "outputs": [
    {
     "data": {
      "text/html": [
       "<div>\n",
       "<style scoped>\n",
       "    .dataframe tbody tr th:only-of-type {\n",
       "        vertical-align: middle;\n",
       "    }\n",
       "\n",
       "    .dataframe tbody tr th {\n",
       "        vertical-align: top;\n",
       "    }\n",
       "\n",
       "    .dataframe thead th {\n",
       "        text-align: right;\n",
       "    }\n",
       "</style>\n",
       "<table border=\"1\" class=\"dataframe\">\n",
       "  <thead>\n",
       "    <tr style=\"text-align: right;\">\n",
       "      <th></th>\n",
       "      <th>Time</th>\n",
       "      <th>V1</th>\n",
       "      <th>V2</th>\n",
       "      <th>V3</th>\n",
       "      <th>V4</th>\n",
       "      <th>V5</th>\n",
       "      <th>V6</th>\n",
       "      <th>V7</th>\n",
       "      <th>V8</th>\n",
       "      <th>V9</th>\n",
       "      <th>...</th>\n",
       "      <th>V21</th>\n",
       "      <th>V22</th>\n",
       "      <th>V23</th>\n",
       "      <th>V24</th>\n",
       "      <th>V25</th>\n",
       "      <th>V26</th>\n",
       "      <th>V27</th>\n",
       "      <th>V28</th>\n",
       "      <th>Amount</th>\n",
       "      <th>Class</th>\n",
       "    </tr>\n",
       "  </thead>\n",
       "  <tbody>\n",
       "    <tr>\n",
       "      <th>7323</th>\n",
       "      <td>132230.0</td>\n",
       "      <td>1.797014</td>\n",
       "      <td>-0.620617</td>\n",
       "      <td>-3.089936</td>\n",
       "      <td>0.195394</td>\n",
       "      <td>0.903350</td>\n",
       "      <td>-1.025187</td>\n",
       "      <td>1.135037</td>\n",
       "      <td>-0.538027</td>\n",
       "      <td>0.093220</td>\n",
       "      <td>...</td>\n",
       "      <td>0.319507</td>\n",
       "      <td>0.526784</td>\n",
       "      <td>-0.393472</td>\n",
       "      <td>0.177619</td>\n",
       "      <td>0.606809</td>\n",
       "      <td>1.006654</td>\n",
       "      <td>-0.201444</td>\n",
       "      <td>-0.062785</td>\n",
       "      <td>219.00</td>\n",
       "      <td>0</td>\n",
       "    </tr>\n",
       "    <tr>\n",
       "      <th>13708</th>\n",
       "      <td>36203.0</td>\n",
       "      <td>1.127534</td>\n",
       "      <td>-1.743518</td>\n",
       "      <td>-0.007402</td>\n",
       "      <td>-2.623771</td>\n",
       "      <td>-1.333444</td>\n",
       "      <td>-0.011875</td>\n",
       "      <td>-0.772654</td>\n",
       "      <td>-0.052193</td>\n",
       "      <td>1.656981</td>\n",
       "      <td>...</td>\n",
       "      <td>-0.497790</td>\n",
       "      <td>-0.917727</td>\n",
       "      <td>-0.304940</td>\n",
       "      <td>-0.993739</td>\n",
       "      <td>0.632809</td>\n",
       "      <td>-0.770682</td>\n",
       "      <td>0.102616</td>\n",
       "      <td>0.054434</td>\n",
       "      <td>185.41</td>\n",
       "      <td>0</td>\n",
       "    </tr>\n",
       "    <tr>\n",
       "      <th>27219</th>\n",
       "      <td>936.0</td>\n",
       "      <td>-1.331879</td>\n",
       "      <td>1.621242</td>\n",
       "      <td>0.590870</td>\n",
       "      <td>1.333507</td>\n",
       "      <td>-0.574223</td>\n",
       "      <td>-0.108092</td>\n",
       "      <td>-0.214766</td>\n",
       "      <td>1.040828</td>\n",
       "      <td>-0.257084</td>\n",
       "      <td>...</td>\n",
       "      <td>0.002048</td>\n",
       "      <td>0.124593</td>\n",
       "      <td>-0.048547</td>\n",
       "      <td>0.063000</td>\n",
       "      <td>-0.037439</td>\n",
       "      <td>-0.210650</td>\n",
       "      <td>0.285472</td>\n",
       "      <td>0.124636</td>\n",
       "      <td>5.99</td>\n",
       "      <td>0</td>\n",
       "    </tr>\n",
       "    <tr>\n",
       "      <th>10573</th>\n",
       "      <td>114587.0</td>\n",
       "      <td>1.628844</td>\n",
       "      <td>-1.065076</td>\n",
       "      <td>-0.497869</td>\n",
       "      <td>0.159299</td>\n",
       "      <td>-1.157159</td>\n",
       "      <td>-1.072094</td>\n",
       "      <td>-0.130069</td>\n",
       "      <td>-0.215774</td>\n",
       "      <td>1.148935</td>\n",
       "      <td>...</td>\n",
       "      <td>-0.311983</td>\n",
       "      <td>-1.179808</td>\n",
       "      <td>0.393706</td>\n",
       "      <td>0.482117</td>\n",
       "      <td>-0.893336</td>\n",
       "      <td>0.716274</td>\n",
       "      <td>-0.126618</td>\n",
       "      <td>-0.018556</td>\n",
       "      <td>200.53</td>\n",
       "      <td>0</td>\n",
       "    </tr>\n",
       "    <tr>\n",
       "      <th>4755</th>\n",
       "      <td>43872.0</td>\n",
       "      <td>1.254027</td>\n",
       "      <td>-0.792932</td>\n",
       "      <td>0.242420</td>\n",
       "      <td>-0.446319</td>\n",
       "      <td>-0.940256</td>\n",
       "      <td>-0.424515</td>\n",
       "      <td>-0.499335</td>\n",
       "      <td>-0.050957</td>\n",
       "      <td>-0.423494</td>\n",
       "      <td>...</td>\n",
       "      <td>0.105934</td>\n",
       "      <td>0.292283</td>\n",
       "      <td>-0.115116</td>\n",
       "      <td>0.101954</td>\n",
       "      <td>0.571071</td>\n",
       "      <td>-0.119523</td>\n",
       "      <td>0.007714</td>\n",
       "      <td>0.013177</td>\n",
       "      <td>64.96</td>\n",
       "      <td>0</td>\n",
       "    </tr>\n",
       "  </tbody>\n",
       "</table>\n",
       "<p>5 rows × 31 columns</p>\n",
       "</div>"
      ],
      "text/plain": [
       "           Time        V1        V2        V3        V4        V5        V6  \\\n",
       "7323   132230.0  1.797014 -0.620617 -3.089936  0.195394  0.903350 -1.025187   \n",
       "13708   36203.0  1.127534 -1.743518 -0.007402 -2.623771 -1.333444 -0.011875   \n",
       "27219     936.0 -1.331879  1.621242  0.590870  1.333507 -0.574223 -0.108092   \n",
       "10573  114587.0  1.628844 -1.065076 -0.497869  0.159299 -1.157159 -1.072094   \n",
       "4755    43872.0  1.254027 -0.792932  0.242420 -0.446319 -0.940256 -0.424515   \n",
       "\n",
       "             V7        V8        V9  ...       V21       V22       V23  \\\n",
       "7323   1.135037 -0.538027  0.093220  ...  0.319507  0.526784 -0.393472   \n",
       "13708 -0.772654 -0.052193  1.656981  ... -0.497790 -0.917727 -0.304940   \n",
       "27219 -0.214766  1.040828 -0.257084  ...  0.002048  0.124593 -0.048547   \n",
       "10573 -0.130069 -0.215774  1.148935  ... -0.311983 -1.179808  0.393706   \n",
       "4755  -0.499335 -0.050957 -0.423494  ...  0.105934  0.292283 -0.115116   \n",
       "\n",
       "            V24       V25       V26       V27       V28  Amount  Class  \n",
       "7323   0.177619  0.606809  1.006654 -0.201444 -0.062785  219.00      0  \n",
       "13708 -0.993739  0.632809 -0.770682  0.102616  0.054434  185.41      0  \n",
       "27219  0.063000 -0.037439 -0.210650  0.285472  0.124636    5.99      0  \n",
       "10573  0.482117 -0.893336  0.716274 -0.126618 -0.018556  200.53      0  \n",
       "4755   0.101954  0.571071 -0.119523  0.007714  0.013177   64.96      0  \n",
       "\n",
       "[5 rows x 31 columns]"
      ]
     },
     "execution_count": 24,
     "metadata": {},
     "output_type": "execute_result"
    }
   ],
   "source": [
    "# concatenate our training data back together\n",
    "X = pd.concat([X_train, y_train], axis=1)\n",
    "X.head()"
   ]
  },
  {
   "cell_type": "code",
   "execution_count": 25,
   "metadata": {
    "_uuid": "fd10e5f5f96a9c3fe607d0fb35475fe62fa75675",
    "id": "iFrbRmKrxP_r"
   },
   "outputs": [
    {
     "data": {
      "text/plain": [
       "Class\n",
       "0    21318\n",
       "1    21318\n",
       "Name: count, dtype: int64"
      ]
     },
     "execution_count": 25,
     "metadata": {},
     "output_type": "execute_result"
    }
   ],
   "source": [
    "# separate minority and majority classes\n",
    "not_fraud = X[X.Class==0]\n",
    "fraud = X[X.Class==1]\n",
    "\n",
    "# upsample minority\n",
    "fraud_upsampled = resample(fraud,\n",
    "                          replace=True, # sample with replacement\n",
    "                          n_samples=len(not_fraud), # match number in majority class\n",
    "                          random_state=27) # reproductible results\n",
    "\n",
    "# combine majority and upsampled minority\n",
    "upsampled = pd.concat([not_fraud, fraud_upsampled])\n",
    "\n",
    "# check new class counts\n",
    "upsampled.Class.value_counts()"
   ]
  },
  {
   "cell_type": "markdown",
   "metadata": {
    "id": "DrQdVcqwEndH"
   },
   "source": [
    "**Exerise** Train a model (`LogisticRegression` for example) on the `upsampled` data and compute the usual metrics."
   ]
  },
  {
   "cell_type": "code",
   "execution_count": 26,
   "metadata": {
    "_uuid": "48e16be49fbda450115a2d169d3edc5979f633c0",
    "id": "gCYT6bqfxP_s"
   },
   "outputs": [
    {
     "name": "stdout",
     "output_type": "stream",
     "text": [
      "Accuracy: 0.9927\n",
      "Recall: 1.0000\n",
      "F1-score: 0.9927\n",
      "Confusion Matrix:\n",
      "[[5252   78]\n",
      " [   0 5329]]\n"
     ]
    }
   ],
   "source": [
    "# TODO: Code here\n",
    "from sklearn.linear_model import LogisticRegression\n",
    "from sklearn.model_selection import train_test_split\n",
    "from sklearn.metrics import accuracy_score, recall_score, f1_score, confusion_matrix\n",
    "\n",
    "# Separate X and y from the upsampled dataset\n",
    "X_up = upsampled.drop('Class', axis=1)\n",
    "y_up = upsampled['Class']\n",
    "\n",
    "# Split into train and test sets\n",
    "X_train_up, X_test_up, y_train_up, y_test_up = train_test_split(\n",
    "    X_up, y_up, test_size=0.25, random_state=42, stratify=y_up\n",
    ")\n",
    "\n",
    "# Train Logistic Regression\n",
    "logreg_up = LogisticRegression(max_iter=1000, random_state=42)\n",
    "logreg_up.fit(X_train_up, y_train_up)\n",
    "\n",
    "# Predict on the test set\n",
    "y_pred_up = logreg_up.predict(X_test_up)\n",
    "\n",
    "# Evaluate metrics\n",
    "acc = accuracy_score(y_test_up, y_pred_up)\n",
    "recall = recall_score(y_test_up, y_pred_up)\n",
    "f1 = f1_score(y_test_up, y_pred_up)\n",
    "cm = confusion_matrix(y_test_up, y_pred_up)\n",
    "\n",
    "# Display results\n",
    "print(f\"Accuracy: {acc:.4f}\")\n",
    "print(f\"Recall: {recall:.4f}\")\n",
    "print(f\"F1-score: {f1:.4f}\")\n",
    "print(\"Confusion Matrix:\")\n",
    "print(cm)\n"
   ]
  },
  {
   "cell_type": "markdown",
   "metadata": {
    "id": "upbO-79QE_QO"
   },
   "source": [
    "**Exercise** Compare the results with what we have seen before\n",
    "\n",
    "**Answer here** \n",
    "\n",
    "The recall increased from 0.70 to 1.00 meaning , now it catches all fraud cases.\n",
    "\n",
    "F1-score improved from 0.8235 to 0.9927 indicating that both precision and recal are high. \n",
    "\n",
    "The model made few more false positives. \n",
    "\n",
    "The upsample model gives a better balance between detecting fraud and minimizing false positives. "
   ]
  },
  {
   "cell_type": "markdown",
   "metadata": {
    "_uuid": "a0b5c7e2b673baac682bb89d9484ad9f7fbea16e",
    "id": "hFwlmb2vxP_w"
   },
   "source": [
    "## 4. Undersampling Majority Class\n",
    "Undersampling can be defined as removing some observations of the majority class.  Undersampling can be a good choice when you have a ton of data -think millions of rows.  But a drawback to undersampling is that we are removing information that may be valuable.\n",
    "\n",
    "We will again use the resampling module from Scikit-Learn to randomly remove samples from the majority class."
   ]
  },
  {
   "cell_type": "code",
   "execution_count": 27,
   "metadata": {
    "_uuid": "15c289c9551acca877a3ca824c6b2f074daccce6",
    "id": "nlsZg-7rxP_w"
   },
   "outputs": [
    {
     "data": {
      "text/plain": [
       "Class\n",
       "0    42\n",
       "1    42\n",
       "Name: count, dtype: int64"
      ]
     },
     "execution_count": 27,
     "metadata": {},
     "output_type": "execute_result"
    }
   ],
   "source": [
    "# still using our separated classes fraud and not_fraud from above\n",
    "\n",
    "# downsample majority\n",
    "not_fraud_downsampled = resample(not_fraud,\n",
    "                                replace = False, # sample without replacement\n",
    "                                n_samples = len(fraud), # match minority n\n",
    "                                random_state = 27) # reproducible results\n",
    "\n",
    "# combine minority and downsampled majority\n",
    "downsampled = pd.concat([not_fraud_downsampled, fraud])\n",
    "\n",
    "# checking counts\n",
    "downsampled.Class.value_counts()"
   ]
  },
  {
   "cell_type": "markdown",
   "metadata": {
    "id": "Thci1idnFPHI"
   },
   "source": [
    "**Exerise** Train a model (`LogisticRegression` for example) on the `downsampled` data and compute the usual metrics."
   ]
  },
  {
   "cell_type": "code",
   "execution_count": 28,
   "metadata": {
    "_uuid": "339ff5f558175b8daf2a4536d4749978e7e7c4fd",
    "id": "59RtcXp7xP_x"
   },
   "outputs": [
    {
     "name": "stdout",
     "output_type": "stream",
     "text": [
      "Accuracy: 0.9524\n",
      "Recall: 1.0000\n",
      "F1-score: 0.9524\n",
      "Confusion Matrix:\n",
      "[[10  1]\n",
      " [ 0 10]]\n"
     ]
    }
   ],
   "source": [
    "# TODO: Code here\n",
    "\n",
    "# 1. Split features and labels from downsampled data\n",
    "X_down = downsampled.drop('Class', axis=1)\n",
    "y_down = downsampled['Class']\n",
    "\n",
    "# 2. Train-test split\n",
    "X_train_down, X_test_down, y_train_down, y_test_down = train_test_split(\n",
    "    X_down, y_down, test_size=0.25, random_state=42, stratify=y_down\n",
    ")\n",
    "\n",
    "# 3. Train Logistic Regression\n",
    "logreg_down = LogisticRegression(max_iter=1000, random_state=42)\n",
    "logreg_down.fit(X_train_down, y_train_down)\n",
    "\n",
    "# 4. Predict\n",
    "y_pred_down = logreg_down.predict(X_test_down)\n",
    "\n",
    "# 5. Evaluate\n",
    "acc = accuracy_score(y_test_down, y_pred_down)\n",
    "recall = recall_score(y_test_down, y_pred_down)\n",
    "f1 = f1_score(y_test_down, y_pred_down)\n",
    "cm = confusion_matrix(y_test_down, y_pred_down)\n",
    "\n",
    "# 6. Display results\n",
    "print(f\"Accuracy: {acc:.4f}\")\n",
    "print(f\"Recall: {recall:.4f}\")\n",
    "print(f\"F1-score: {f1:.4f}\")\n",
    "print(\"Confusion Matrix:\")\n",
    "print(cm)\n"
   ]
  },
  {
   "cell_type": "markdown",
   "metadata": {
    "id": "Q7t3cNm0IrGA"
   },
   "source": [
    "**Exercise** Compare the results with what we have seen before\n",
    "\n",
    "**Answer here** \n",
    "\n",
    "The downsampled model achieved a perfect recal score of 1.0. which if excellent for detecting all fraud cases. However, because it was trained on far fewer data points, its accuracy and F1-score are slightly lower than the upsampled model.\n"
   ]
  },
  {
   "cell_type": "markdown",
   "metadata": {
    "_uuid": "9ce5844e2d4447485416cf927112a8c2cf3fd1d8",
    "id": "8EsperTjxP_z"
   },
   "source": [
    "## 5. Generate Synthetic Samples\n",
    "SMOTE or Synthetic Minority Oversampling Technique is a popular algorithm to creates sythetic observations of the minority class."
   ]
  },
  {
   "cell_type": "code",
   "execution_count": 29,
   "metadata": {
    "_uuid": "5d01357038bb94f8a93c77141e462153c73c5ab8",
    "id": "EvPcxIOPxP_0"
   },
   "outputs": [
    {
     "name": "stderr",
     "output_type": "stream",
     "text": [
      "  File \"c:\\Users\\douae\\anaconda3\\Lib\\site-packages\\joblib\\externals\\loky\\backend\\context.py\", line 257, in _count_physical_cores\n",
      "    cpu_info = subprocess.run(\n",
      "               ^^^^^^^^^^^^^^^\n",
      "  File \"c:\\Users\\douae\\anaconda3\\Lib\\subprocess.py\", line 548, in run\n",
      "    with Popen(*popenargs, **kwargs) as process:\n",
      "         ^^^^^^^^^^^^^^^^^^^^^^^^^^^\n",
      "  File \"c:\\Users\\douae\\anaconda3\\Lib\\subprocess.py\", line 1026, in __init__\n",
      "    self._execute_child(args, executable, preexec_fn, close_fds,\n",
      "  File \"c:\\Users\\douae\\anaconda3\\Lib\\subprocess.py\", line 1538, in _execute_child\n",
      "    hp, ht, pid, tid = _winapi.CreateProcess(executable, args,\n",
      "                       ^^^^^^^^^^^^^^^^^^^^^^^^^^^^^^^^^^^^^^^\n"
     ]
    }
   ],
   "source": [
    "from imblearn.over_sampling import SMOTE\n",
    "\n",
    "# Separate input features and target\n",
    "y = df.Class\n",
    "X = df.drop('Class', axis=1)\n",
    "\n",
    "# setting up testing and training sets\n",
    "X_train, X_test, y_train, y_test = train_test_split(X, y, test_size=0.25, random_state=27)\n",
    "\n",
    "sm = SMOTE(random_state=27, sampling_strategy=1.0)\n",
    "X_train, y_train = sm.fit_resample(X_train, y_train)"
   ]
  },
  {
   "cell_type": "code",
   "execution_count": 30,
   "metadata": {
    "_uuid": "669cb81d0cf57aa6c3769a586253ac5e1e5622bf",
    "id": "Kzxu12czxP_0"
   },
   "outputs": [],
   "source": [
    "smote = LogisticRegression(solver='liblinear').fit(X_train, y_train)\n",
    "\n",
    "smote_pred = smote.predict(X_test)"
   ]
  },
  {
   "cell_type": "markdown",
   "metadata": {
    "id": "W2uObe32IXRG"
   },
   "source": [
    "**Exercise** Compute metrics for these predictions"
   ]
  },
  {
   "cell_type": "code",
   "execution_count": 32,
   "metadata": {},
   "outputs": [
    {
     "name": "stdout",
     "output_type": "stream",
     "text": [
      "Accuracy: 0.9869\n",
      "Recall: 0.9000\n",
      "F1-score: 0.1622\n",
      "Confusion Matrix:\n",
      "[[7019   92]\n",
      " [   1    9]]\n"
     ]
    }
   ],
   "source": [
    "accuracy = accuracy_score(y_test, smote_pred)\n",
    "recall = recall_score(y_test, smote_pred)\n",
    "f1 = f1_score(y_test, smote_pred)\n",
    "cm = confusion_matrix(y_test, smote_pred)\n",
    "\n",
    "print(f\"Accuracy: {accuracy:.4f}\")\n",
    "print(f\"Recall: {recall:.4f}\")\n",
    "print(f\"F1-score: {f1:.4f}\")\n",
    "print(\"Confusion Matrix:\")\n",
    "print(cm)\n"
   ]
  },
  {
   "cell_type": "markdown",
   "metadata": {
    "_uuid": "8bde53447fef057292a1d52b62978e53b7d44f8f",
    "id": "xIjJZL_nxP_1"
   },
   "source": [
    "## Conclusion\n",
    "\n",
    "We covered 5 different methods for dealing with imbalanced datasets:\n",
    "1.  Change the performance metric\n",
    "2.  Oversampling minority class\n",
    "3.  Undersampling majority class\n",
    "4.  Change the algorithm\n",
    "5.  Generate synthetic samples\n",
    "\n",
    "These are just some of the many possible methods to try when dealing with imbalanced datasets, and not an exhaustive list.  Some others methods to consider are collecting more data or choosing different resampling ratios - you don't have to have exactly a 1:1 ratio!  You should always try several approaches and then decide which is best for your problem."
   ]
  }
 ],
 "metadata": {
  "colab": {
   "name": "lab3_Imbalanced_datasets_.ipynb",
   "provenance": []
  },
  "kernelspec": {
   "display_name": "base",
   "language": "python",
   "name": "python3"
  },
  "language_info": {
   "codemirror_mode": {
    "name": "ipython",
    "version": 3
   },
   "file_extension": ".py",
   "mimetype": "text/x-python",
   "name": "python",
   "nbconvert_exporter": "python",
   "pygments_lexer": "ipython3",
   "version": "3.12.7"
  }
 },
 "nbformat": 4,
 "nbformat_minor": 0
}
