{
 "cells": [
  {
   "cell_type": "markdown",
   "metadata": {
    "id": "2oJpccTCQPMy"
   },
   "source": [
    "<img style=\"float: left; padding-right: 10px; width: 45px\" src=\"https://upload.wikimedia.org/wikipedia/fr/b/b1/Logo_EPF.png?raw=true\"> \n",
    "\n",
    "# Introduction to Machine Learning\n",
    "\n",
    "\n",
    "## Lab 1:  Multiple and Polynomial Regression\n",
    "\n",
    "### First name: Douae \n",
    "### Last name: HAMMOUTI\n",
    "### Group: DEA2\n",
    "\n",
    "\n",
    "---"
   ]
  },
  {
   "cell_type": "markdown",
   "metadata": {
    "id": "y8VYd6KRQPM1"
   },
   "source": [
    "## Table of Contents\n",
    "\n",
    "<ol start=\"0\">\n",
    "<li> Learning Goals </li>\n",
    "<li> Polynomial Regression, and Revisiting the Cab Data</li>\n",
    "<li> Multiple regression and exploring the Football data </li>\n",
    "<li> A nice trick for forward-backwards </li>\n",
    "</ol>"
   ]
  },
  {
   "cell_type": "markdown",
   "metadata": {
    "id": "3Vrnk_LGQPM1"
   },
   "source": [
    "## Learning Goals\n",
    "After this lab, you should be able to\n",
    " - Implement arbitrary multiple regression models in both SK-learn and Statsmodels\n",
    " - Interpret the coefficent estimates produced by each model, including transformed and dummy variables"
   ]
  },
  {
   "cell_type": "code",
   "execution_count": 3,
   "metadata": {
    "id": "ne_TBDVvQPM1"
   },
   "outputs": [],
   "source": [
    "import numpy as np\n",
    "import pandas as pd\n",
    "import matplotlib.pyplot as plt\n",
    "\n",
    "import statsmodels.api as sm\n",
    "from statsmodels.api import OLS\n",
    "\n",
    "from sklearn import preprocessing\n",
    "from sklearn.preprocessing import PolynomialFeatures\n",
    "from sklearn.metrics import r2_score\n",
    "from sklearn.model_selection import train_test_split\n",
    "\n",
    "from pandas.plotting import scatter_matrix\n",
    "\n",
    "import seaborn as sns\n",
    "\n",
    "\n",
    "%matplotlib inline"
   ]
  },
  {
   "cell_type": "markdown",
   "metadata": {
    "id": "3SunTbFJQPM2"
   },
   "source": [
    "`statsmodels` is focused on the _inference_ task: guess good values for the betas and discuss how certain you are in those answers. \n",
    "\n",
    "`sklearn` is focused on the _prediction_ task: given \\[new\\] data, guess what the response value is. As a result, statsmodels has lots of tools to discuss confidence, but isn't great at dealing with test sets. Sklearn is great at test sets and validations, but can't really discuss uncertainty in the parameters or predictions. In short:\n",
    "\n",
    "  - sklearn is about putting a line through it and predicting new values using that line. If the line gives good predictions on the test set, who cares about anything else?\n",
    "  - statsmodels assumes more about how the data were generated, and (if the assumptions are correct) can tell you about uncertainty in the results\n"
   ]
  },
  {
   "cell_type": "markdown",
   "metadata": {
    "id": "G4bcNluuQPM2"
   },
   "source": [
    "### Some terms\n",
    "\n",
    "\n",
    "- **R-squared**: An interpretable summary of how well the model did. 1 is perfect, 0 is a trivial baseline model, negative is worse than the trivial model\n",
    "- **F-statistic**: A value testing whether we're likely to see these results (or even stronger ones) if none of the predictors actually mattered.\n",
    "- **Prob (F-statistic)**: The probability that we'd see these results (or even stronger ones) if none of the predictors actually mattered. If this probability is small then either A) some combination of predictors actually matters or B) something rather unlikely has happened\n",
    "- **coef**: The estimate of each beta. This has several sub-components:\n",
    "  - **std err**: The amount we'd expect this value to wiggle if we re-did the data collection and re-ran our model. More data tends to make this wiggle smaller, but sometimes the collected data just isn't enough to pin down a particular value.\n",
    "  - **t and P>|t|**: similar to the F-statistic, these measure the probability of seeing coefficients this big (or even bigger) if the given variable didn't actually matter. Small probability doesn't necessarily mean the value matters\n",
    "  - **\\[0.025 0.975\\]**: Endpoints of the 95% confidence interval. This is a interval drawn in a clever way and which gives an idea of where the true beta value might plausibly live. (If you want to understand why \"there's a 95% chance the true beta is in the interval\" is _wrong_, start a chat with Will : )\n",
    "  "
   ]
  },
  {
   "cell_type": "markdown",
   "metadata": {
    "id": "Oow8KNBxQPM3"
   },
   "source": [
    "## Part 1: Polynomial Regression, and Revisiting the Cab Data"
   ]
  },
  {
   "cell_type": "code",
   "execution_count": 4,
   "metadata": {
    "id": "Va40TdgPQPM3"
   },
   "outputs": [
    {
     "data": {
      "text/html": [
       "<div>\n",
       "<style scoped>\n",
       "    .dataframe tbody tr th:only-of-type {\n",
       "        vertical-align: middle;\n",
       "    }\n",
       "\n",
       "    .dataframe tbody tr th {\n",
       "        vertical-align: top;\n",
       "    }\n",
       "\n",
       "    .dataframe thead th {\n",
       "        text-align: right;\n",
       "    }\n",
       "</style>\n",
       "<table border=\"1\" class=\"dataframe\">\n",
       "  <thead>\n",
       "    <tr style=\"text-align: right;\">\n",
       "      <th></th>\n",
       "      <th>TimeMin</th>\n",
       "      <th>PickupCount</th>\n",
       "    </tr>\n",
       "  </thead>\n",
       "  <tbody>\n",
       "    <tr>\n",
       "      <th>0</th>\n",
       "      <td>860.0</td>\n",
       "      <td>33.0</td>\n",
       "    </tr>\n",
       "    <tr>\n",
       "      <th>1</th>\n",
       "      <td>17.0</td>\n",
       "      <td>75.0</td>\n",
       "    </tr>\n",
       "    <tr>\n",
       "      <th>2</th>\n",
       "      <td>486.0</td>\n",
       "      <td>13.0</td>\n",
       "    </tr>\n",
       "    <tr>\n",
       "      <th>3</th>\n",
       "      <td>300.0</td>\n",
       "      <td>5.0</td>\n",
       "    </tr>\n",
       "    <tr>\n",
       "      <th>4</th>\n",
       "      <td>385.0</td>\n",
       "      <td>10.0</td>\n",
       "    </tr>\n",
       "  </tbody>\n",
       "</table>\n",
       "</div>"
      ],
      "text/plain": [
       "   TimeMin  PickupCount\n",
       "0    860.0         33.0\n",
       "1     17.0         75.0\n",
       "2    486.0         13.0\n",
       "3    300.0          5.0\n",
       "4    385.0         10.0"
      ]
     },
     "execution_count": 4,
     "metadata": {},
     "output_type": "execute_result"
    }
   ],
   "source": [
    "# read in the data, break into train and test\n",
    "cab_df = pd.read_csv(\"dataset_1.txt\")\n",
    "train_data, test_data = train_test_split(cab_df, test_size=.2, random_state=42)\n",
    "cab_df.head()"
   ]
  },
  {
   "cell_type": "code",
   "execution_count": 5,
   "metadata": {
    "id": "HPLYL3UIQPM3"
   },
   "outputs": [
    {
     "data": {
      "text/plain": [
       "(1250, 2)"
      ]
     },
     "execution_count": 5,
     "metadata": {},
     "output_type": "execute_result"
    }
   ],
   "source": [
    "cab_df.shape"
   ]
  },
  {
   "cell_type": "code",
   "execution_count": 6,
   "metadata": {
    "collapsed": true,
    "id": "jbJXxKCKQPM4"
   },
   "outputs": [],
   "source": [
    "# do some data cleaning\n",
    "X_train = train_data['TimeMin'].values.reshape(-1,1)/60\n",
    "y_train = train_data['PickupCount'].values\n",
    "\n",
    "X_test = test_data['TimeMin'].values.reshape(-1,1)/60\n",
    "y_test = test_data['PickupCount'].values\n",
    "\n",
    "\n",
    "def plot_cabs(cur_model, poly_transformer=None):\n",
    "    \n",
    "    # build the x values for the prediction line\n",
    "    x_vals = np.arange(0,24,.1).reshape(-1,1)\n",
    "    \n",
    "    # if needed, build the design matrix\n",
    "    if poly_transformer:\n",
    "        design_mat = poly_transformer.fit_transform(x_vals)\n",
    "    else:\n",
    "        design_mat = x_vals\n",
    "    \n",
    "    # make the prediction at each x value\n",
    "    prediction = cur_model.predict(design_mat)\n",
    "    \n",
    "    # plot the prediction line, and the test data\n",
    "    plt.plot(x_vals,prediction, color='k', label=\"Prediction\")\n",
    "    plt.scatter(X_test, y_test, label=\"Test Data\")\n",
    "\n",
    "    # label your plots\n",
    "    plt.ylabel(\"Number of Taxi Pickups\")\n",
    "    plt.xlabel(\"Time of Day (Hours Past Midnight)\")\n",
    "    plt.legend()\n",
    "    plt.show()"
   ]
  },
  {
   "cell_type": "code",
   "execution_count": 7,
   "metadata": {
    "id": "DFWYnKvTQPM4"
   },
   "outputs": [
    {
     "data": {
      "image/png": "[encoded data removed]",
      "text/plain": [
       "<Figure size 640x480 with 1 Axes>"
      ]
     },
     "metadata": {},
     "output_type": "display_data"
    }
   ],
   "source": [
    "from sklearn.linear_model import LinearRegression\n",
    "fitted_cab_model0 = LinearRegression().fit(X_train, y_train)\n",
    "plot_cabs(fitted_cab_model0)"
   ]
  },
  {
   "cell_type": "code",
   "execution_count": 8,
   "metadata": {
    "id": "2-bZoMn3QPM4"
   },
   "outputs": [
    {
     "data": {
      "text/plain": [
       "0.240661535615741"
      ]
     },
     "execution_count": 8,
     "metadata": {},
     "output_type": "execute_result"
    }
   ],
   "source": [
    "fitted_cab_model0.score(X_test, y_test)"
   ]
  },
  {
   "cell_type": "markdown",
   "metadata": {
    "id": "bvM9w5fwQPM5"
   },
   "source": [
    "We can see that there's still a lot of variation in cab pickups that's not being caught by a linear fit. And the linear fit is predicting massively more pickups at 11:59pm than at 12:00am. However, we can add columns to our design matrix for $TimeMin^2$ and $TimeMin^3$ and so on, allowing a wigglier polynomial that will better fit the data.\n",
    "\n",
    "We'll be using sklearn's `PolynomialFeatures` to take some of the tedium out of building the new design matrix. In fact, if all we want is a formula like $y \\approx \\beta_0 + \\beta_1 x + \\beta_2 x^2 + ...$ it will directly return the new design matrix."
   ]
  },
  {
   "cell_type": "code",
   "execution_count": 9,
   "metadata": {
    "id": "bCO20oeWQPM5"
   },
   "outputs": [
    {
     "data": {
      "text/plain": [
       "array([[6.73333333e+00, 4.53377778e+01, 3.05274370e+02],\n",
       "       [2.18333333e+00, 4.76694444e+00, 1.04078287e+01],\n",
       "       [1.41666667e+00, 2.00694444e+00, 2.84317130e+00],\n",
       "       ...,\n",
       "       [1.96666667e+01, 3.86777778e+02, 7.60662963e+03],\n",
       "       [1.17333333e+01, 1.37671111e+02, 1.61534104e+03],\n",
       "       [1.42000000e+01, 2.01640000e+02, 2.86328800e+03]])"
      ]
     },
     "execution_count": 9,
     "metadata": {},
     "output_type": "execute_result"
    }
   ],
   "source": [
    "transformer_3 = PolynomialFeatures(3, include_bias=False)\n",
    "new_features = transformer_3.fit_transform(X_train)\n",
    "new_features"
   ]
  },
  {
   "cell_type": "markdown",
   "metadata": {
    "id": "2jcwUwNdQPM5"
   },
   "source": [
    "A few notes on `PolynomialFeatures`:\n",
    "\n",
    "- The interface is a bit strange. `PolynomialFeatures` is a 'transformer' in sklearn. We'll be using several transformers that learn a transformation on the training data and then apply that transformation on future data. On these (more typical) transformers it makes sense to have a `.fit()` and a separate `.transform()`. With PolynomialFeatures, the `.fit()` is pretty trivial, and we often fit and transform in one command, as seen above.\n",
    "- You rarely want to `include_bias` (a column of all 1s), since sklearn will add it automatically and statsmodels can just `add_constant` right before you fit to the design matrix\n",
    "- If you want polynomial features for a several different variables, you should call `.fit_transform()` separately on each column and append all the results to the design matrix (unless you also want interaction terms between the newly-created features). See `np.concatenate` for joining arrays."
   ]
  },
  {
   "cell_type": "code",
   "execution_count": 10,
   "metadata": {
    "id": "yIgIQYYvQPM6"
   },
   "outputs": [
    {
     "data": {
      "image/png": "[encoded data removed]",
      "text/plain": [
       "<Figure size 640x480 with 1 Axes>"
      ]
     },
     "metadata": {},
     "output_type": "display_data"
    }
   ],
   "source": [
    "fitted_cab_model3 = LinearRegression().fit(new_features, y_train)\n",
    "plot_cabs(fitted_cab_model3, transformer_3)"
   ]
  },
  {
   "cell_type": "markdown",
   "metadata": {
    "id": "w4rk_-NUQPM6"
   },
   "source": [
    "<div class=\"exercise\"><b>Exercise</b></div>\n",
    "\n",
    "**Questions**:\n",
    "1. Calculate the polynomial model's $R^2$ performance on the test set. \n",
    "2. Does the polynomial model improve on the purely linear model?\n",
    "3. Make a residual plot for the polynomial model. What does this plot tell us about the model?"
   ]
  },
  {
   "cell_type": "markdown",
   "metadata": {
    "id": "43OjG88CQPM6"
   },
   "source": [
    "*your answer here*\n"
   ]
  },
  {
   "cell_type": "code",
   "execution_count": null,
   "metadata": {
    "id": "ubOEFkAQQPM7"
   },
   "outputs": [
    {
     "name": "stdout",
     "output_type": "stream",
     "text": [
      "Polynomial model R^2 score: 0.3341251257077831\n"
     ]
    }
   ],
   "source": [
    "# your code here\n",
    "from sklearn.metrics import r2_score\n",
    "\n",
    "X_test_poly = transformer_3.transform(X_test)\n",
    "y_pred_poly = fitted_cab_model3.predict(X_test_poly)\n",
    "\n",
    "r2_poly = r2_score(y_test, y_pred_poly)\n",
    "print(\"Polynomial model R^2 score:\", r2_poly)\n"
   ]
  },
  {
   "cell_type": "code",
   "execution_count": 12,
   "metadata": {
    "id": "hWL6Un_GQPM7"
   },
   "outputs": [
    {
     "name": "stdout",
     "output_type": "stream",
     "text": [
      "Linear model R^2 score: 0.240661535615741\n",
      "✅ The polynomial model improves on the linear model.\n"
     ]
    }
   ],
   "source": [
    "# your code here\n",
    "r2_linear = fitted_cab_model0.score(X_test, y_test)\n",
    "print(\"Linear model R^2 score:\", r2_linear)\n",
    "\n",
    "if r2_poly > r2_linear:\n",
    "    print(\"✅ The polynomial model improves on the linear model.\")\n",
    "else:\n",
    "    print(\"❌ The polynomial model does NOT improve on the linear model.\")\n"
   ]
  },
  {
   "cell_type": "code",
   "execution_count": 13,
   "metadata": {
    "id": "bI4hG6bZQPM7"
   },
   "outputs": [
    {
     "data": {
      "image/png": "[encoded data removed]",
      "text/plain": [
       "<Figure size 640x480 with 1 Axes>"
      ]
     },
     "metadata": {},
     "output_type": "display_data"
    }
   ],
   "source": [
    "# your code here\n",
    "\n",
    "# Residuals\n",
    "residuals = y_test - y_pred_poly\n",
    "\n",
    "# Residual plot\n",
    "plt.scatter(y_pred_poly, residuals)\n",
    "plt.axhline(y=0, color='red', linestyle='--')\n",
    "plt.xlabel(\"Predicted Pickup Count (Polynomial Model)\")\n",
    "plt.ylabel(\"Residuals\")\n",
    "plt.title(\"Residual Plot for Polynomial Model\")\n",
    "plt.show()\n"
   ]
  },
  {
   "cell_type": "markdown",
   "metadata": {
    "id": "MyyIxzl0QPM7"
   },
   "source": [
    "#### Other features\n",
    "Polynomial features are not the only constucted features that help fit the data. Because these data have a 24 hour cycle, we may want to build features that follow such a cycle. For example, $sin(24\\frac{x}{2\\pi})$, $sin(12\\frac{x}{2\\pi})$, $sin(8\\frac{x}{2\\pi})$. Other feature transformations are appropriate to other types of data. For instance certain feature transformations have been developed for geographical data."
   ]
  },
  {
   "cell_type": "markdown",
   "metadata": {
    "id": "xygIntTkQPM8"
   },
   "source": [
    "<hr style=\"height:3px\">\n",
    "## Part 2: Multiple regression and exploring the Football data\n",
    "Let's move on to a truly interesting dataset. The data imported below were scraped by [Shubham Maurya](https://www.kaggle.com/mauryashubham/linear-regression-to-predict-market-value/data) and record various facts about players in the English Premier League. Our goal will be to fit models that predict the players' market value (what the player could earn when hired by a new team), as estimated by transfermrkt.com.\n",
    "\n",
    "`name`: Name of the player  \n",
    "`club`: Club of the player  \n",
    "`age` : Age of the player  \n",
    "`position` : The usual position on the pitch  \n",
    "`position_cat` :  1 for attackers, 2 for midfielders, 3 for defenders, 4 for goalkeepers  \n",
    "`market_value` : As on transfermrkt.com on July 20th, 2017  \n",
    "`page_views` : Average daily Wikipedia page views from September 1, 2016 to May 1, 2017  \n",
    "`fpl_value` : Value in Fantasy Premier League as on July 20th, 2017  \n",
    "`fpl_sel` : % of FPL players who have selected that player in their team  \n",
    "`fpl_points` : FPL points accumulated over the previous season  \n",
    "`region`: 1 for England, 2 for EU, 3 for Americas, 4 for Rest of World  \n",
    "`nationality`: Player's nationality  \n",
    "`new_foreign`: Whether a new signing from a different league, for 2017/18 (till 20th July)  \n",
    "`age_cat`: a categorical version of the Age feature  \n",
    "`club_id`: a numerical version of the Club feature  \n",
    "`big_club`: Whether one of the Top 6 clubs  \n",
    "`new_signing`: Whether a new signing for 2017/18 (till 20th July)  \n",
    "\n",
    "As always, we first import, verify, split, and explore the data.\n",
    "\n",
    "## Part 2.1: Import and verification and grouping"
   ]
  },
  {
   "cell_type": "code",
   "execution_count": 14,
   "metadata": {
    "id": "LqXoNq-rQPM8",
    "scrolled": false
   },
   "outputs": [
    {
     "name": "stdout",
     "output_type": "stream",
     "text": [
      "name             object\n",
      "club             object\n",
      "age               int64\n",
      "position         object\n",
      "position_cat      int64\n",
      "market_value    float64\n",
      "page_views        int64\n",
      "fpl_value       float64\n",
      "fpl_sel          object\n",
      "fpl_points        int64\n",
      "region          float64\n",
      "nationality      object\n",
      "new_foreign       int64\n",
      "age_cat           int64\n",
      "club_id           int64\n",
      "big_club          int64\n",
      "new_signing       int64\n",
      "dtype: object\n"
     ]
    },
    {
     "data": {
      "text/html": [
       "<div>\n",
       "<style scoped>\n",
       "    .dataframe tbody tr th:only-of-type {\n",
       "        vertical-align: middle;\n",
       "    }\n",
       "\n",
       "    .dataframe tbody tr th {\n",
       "        vertical-align: top;\n",
       "    }\n",
       "\n",
       "    .dataframe thead th {\n",
       "        text-align: right;\n",
       "    }\n",
       "</style>\n",
       "<table border=\"1\" class=\"dataframe\">\n",
       "  <thead>\n",
       "    <tr style=\"text-align: right;\">\n",
       "      <th></th>\n",
       "      <th>name</th>\n",
       "      <th>club</th>\n",
       "      <th>age</th>\n",
       "      <th>position</th>\n",
       "      <th>position_cat</th>\n",
       "      <th>market_value</th>\n",
       "      <th>page_views</th>\n",
       "      <th>fpl_value</th>\n",
       "      <th>fpl_sel</th>\n",
       "      <th>fpl_points</th>\n",
       "      <th>region</th>\n",
       "      <th>nationality</th>\n",
       "      <th>new_foreign</th>\n",
       "      <th>age_cat</th>\n",
       "      <th>club_id</th>\n",
       "      <th>big_club</th>\n",
       "      <th>new_signing</th>\n",
       "    </tr>\n",
       "  </thead>\n",
       "  <tbody>\n",
       "    <tr>\n",
       "      <th>0</th>\n",
       "      <td>Alexis Sanchez</td>\n",
       "      <td>Arsenal</td>\n",
       "      <td>28</td>\n",
       "      <td>LW</td>\n",
       "      <td>1</td>\n",
       "      <td>65.0</td>\n",
       "      <td>4329</td>\n",
       "      <td>12.0</td>\n",
       "      <td>17.10%</td>\n",
       "      <td>264</td>\n",
       "      <td>3.0</td>\n",
       "      <td>Chile</td>\n",
       "      <td>0</td>\n",
       "      <td>4</td>\n",
       "      <td>1</td>\n",
       "      <td>1</td>\n",
       "      <td>0</td>\n",
       "    </tr>\n",
       "    <tr>\n",
       "      <th>1</th>\n",
       "      <td>Mesut Ozil</td>\n",
       "      <td>Arsenal</td>\n",
       "      <td>28</td>\n",
       "      <td>AM</td>\n",
       "      <td>1</td>\n",
       "      <td>50.0</td>\n",
       "      <td>4395</td>\n",
       "      <td>9.5</td>\n",
       "      <td>5.60%</td>\n",
       "      <td>167</td>\n",
       "      <td>2.0</td>\n",
       "      <td>Germany</td>\n",
       "      <td>0</td>\n",
       "      <td>4</td>\n",
       "      <td>1</td>\n",
       "      <td>1</td>\n",
       "      <td>0</td>\n",
       "    </tr>\n",
       "    <tr>\n",
       "      <th>2</th>\n",
       "      <td>Petr Cech</td>\n",
       "      <td>Arsenal</td>\n",
       "      <td>35</td>\n",
       "      <td>GK</td>\n",
       "      <td>4</td>\n",
       "      <td>7.0</td>\n",
       "      <td>1529</td>\n",
       "      <td>5.5</td>\n",
       "      <td>5.90%</td>\n",
       "      <td>134</td>\n",
       "      <td>2.0</td>\n",
       "      <td>Czech Republic</td>\n",
       "      <td>0</td>\n",
       "      <td>6</td>\n",
       "      <td>1</td>\n",
       "      <td>1</td>\n",
       "      <td>0</td>\n",
       "    </tr>\n",
       "    <tr>\n",
       "      <th>3</th>\n",
       "      <td>Theo Walcott</td>\n",
       "      <td>Arsenal</td>\n",
       "      <td>28</td>\n",
       "      <td>RW</td>\n",
       "      <td>1</td>\n",
       "      <td>20.0</td>\n",
       "      <td>2393</td>\n",
       "      <td>7.5</td>\n",
       "      <td>1.50%</td>\n",
       "      <td>122</td>\n",
       "      <td>1.0</td>\n",
       "      <td>England</td>\n",
       "      <td>0</td>\n",
       "      <td>4</td>\n",
       "      <td>1</td>\n",
       "      <td>1</td>\n",
       "      <td>0</td>\n",
       "    </tr>\n",
       "    <tr>\n",
       "      <th>4</th>\n",
       "      <td>Laurent Koscielny</td>\n",
       "      <td>Arsenal</td>\n",
       "      <td>31</td>\n",
       "      <td>CB</td>\n",
       "      <td>3</td>\n",
       "      <td>22.0</td>\n",
       "      <td>912</td>\n",
       "      <td>6.0</td>\n",
       "      <td>0.70%</td>\n",
       "      <td>121</td>\n",
       "      <td>2.0</td>\n",
       "      <td>France</td>\n",
       "      <td>0</td>\n",
       "      <td>4</td>\n",
       "      <td>1</td>\n",
       "      <td>1</td>\n",
       "      <td>0</td>\n",
       "    </tr>\n",
       "  </tbody>\n",
       "</table>\n",
       "</div>"
      ],
      "text/plain": [
       "                name     club  age position  position_cat  market_value  \\\n",
       "0     Alexis Sanchez  Arsenal   28       LW             1          65.0   \n",
       "1         Mesut Ozil  Arsenal   28       AM             1          50.0   \n",
       "2          Petr Cech  Arsenal   35       GK             4           7.0   \n",
       "3       Theo Walcott  Arsenal   28       RW             1          20.0   \n",
       "4  Laurent Koscielny  Arsenal   31       CB             3          22.0   \n",
       "\n",
       "   page_views  fpl_value fpl_sel  fpl_points  region     nationality  \\\n",
       "0        4329       12.0  17.10%         264     3.0           Chile   \n",
       "1        4395        9.5   5.60%         167     2.0         Germany   \n",
       "2        1529        5.5   5.90%         134     2.0  Czech Republic   \n",
       "3        2393        7.5   1.50%         122     1.0         England   \n",
       "4         912        6.0   0.70%         121     2.0          France   \n",
       "\n",
       "   new_foreign  age_cat  club_id  big_club  new_signing  \n",
       "0            0        4        1         1            0  \n",
       "1            0        4        1         1            0  \n",
       "2            0        6        1         1            0  \n",
       "3            0        4        1         1            0  \n",
       "4            0        4        1         1            0  "
      ]
     },
     "execution_count": 14,
     "metadata": {},
     "output_type": "execute_result"
    }
   ],
   "source": [
    "league_df = pd.read_csv(\"league_data.txt\")\n",
    "print(league_df.dtypes)\n",
    "league_df.head()"
   ]
  },
  {
   "cell_type": "code",
   "execution_count": 15,
   "metadata": {
    "id": "E3LHa_dFQPM8"
   },
   "outputs": [
    {
     "data": {
      "text/plain": [
       "(461, 17)"
      ]
     },
     "execution_count": 15,
     "metadata": {},
     "output_type": "execute_result"
    }
   ],
   "source": [
    "league_df.shape"
   ]
  },
  {
   "cell_type": "code",
   "execution_count": 16,
   "metadata": {
    "id": "lAOcGIwhQPM9"
   },
   "outputs": [
    {
     "data": {
      "text/html": [
       "<div>\n",
       "<style scoped>\n",
       "    .dataframe tbody tr th:only-of-type {\n",
       "        vertical-align: middle;\n",
       "    }\n",
       "\n",
       "    .dataframe tbody tr th {\n",
       "        vertical-align: top;\n",
       "    }\n",
       "\n",
       "    .dataframe thead th {\n",
       "        text-align: right;\n",
       "    }\n",
       "</style>\n",
       "<table border=\"1\" class=\"dataframe\">\n",
       "  <thead>\n",
       "    <tr style=\"text-align: right;\">\n",
       "      <th></th>\n",
       "      <th>age</th>\n",
       "      <th>position_cat</th>\n",
       "      <th>market_value</th>\n",
       "      <th>page_views</th>\n",
       "      <th>fpl_value</th>\n",
       "      <th>fpl_points</th>\n",
       "      <th>region</th>\n",
       "      <th>new_foreign</th>\n",
       "      <th>age_cat</th>\n",
       "      <th>club_id</th>\n",
       "      <th>big_club</th>\n",
       "      <th>new_signing</th>\n",
       "    </tr>\n",
       "  </thead>\n",
       "  <tbody>\n",
       "    <tr>\n",
       "      <th>count</th>\n",
       "      <td>461.000000</td>\n",
       "      <td>461.000000</td>\n",
       "      <td>461.000000</td>\n",
       "      <td>461.000000</td>\n",
       "      <td>461.000000</td>\n",
       "      <td>461.000000</td>\n",
       "      <td>460.000000</td>\n",
       "      <td>461.000000</td>\n",
       "      <td>461.000000</td>\n",
       "      <td>461.000000</td>\n",
       "      <td>461.000000</td>\n",
       "      <td>461.000000</td>\n",
       "    </tr>\n",
       "    <tr>\n",
       "      <th>mean</th>\n",
       "      <td>26.804772</td>\n",
       "      <td>2.180043</td>\n",
       "      <td>11.012039</td>\n",
       "      <td>763.776573</td>\n",
       "      <td>5.447939</td>\n",
       "      <td>57.314534</td>\n",
       "      <td>1.993478</td>\n",
       "      <td>0.034707</td>\n",
       "      <td>3.206074</td>\n",
       "      <td>10.334056</td>\n",
       "      <td>0.303688</td>\n",
       "      <td>0.145336</td>\n",
       "    </tr>\n",
       "    <tr>\n",
       "      <th>std</th>\n",
       "      <td>3.961892</td>\n",
       "      <td>1.000061</td>\n",
       "      <td>12.257403</td>\n",
       "      <td>931.805757</td>\n",
       "      <td>1.346695</td>\n",
       "      <td>53.113811</td>\n",
       "      <td>0.957689</td>\n",
       "      <td>0.183236</td>\n",
       "      <td>1.279795</td>\n",
       "      <td>5.726475</td>\n",
       "      <td>0.460349</td>\n",
       "      <td>0.352822</td>\n",
       "    </tr>\n",
       "    <tr>\n",
       "      <th>min</th>\n",
       "      <td>17.000000</td>\n",
       "      <td>1.000000</td>\n",
       "      <td>0.050000</td>\n",
       "      <td>3.000000</td>\n",
       "      <td>4.000000</td>\n",
       "      <td>0.000000</td>\n",
       "      <td>1.000000</td>\n",
       "      <td>0.000000</td>\n",
       "      <td>1.000000</td>\n",
       "      <td>1.000000</td>\n",
       "      <td>0.000000</td>\n",
       "      <td>0.000000</td>\n",
       "    </tr>\n",
       "    <tr>\n",
       "      <th>25%</th>\n",
       "      <td>24.000000</td>\n",
       "      <td>1.000000</td>\n",
       "      <td>3.000000</td>\n",
       "      <td>220.000000</td>\n",
       "      <td>4.500000</td>\n",
       "      <td>5.000000</td>\n",
       "      <td>1.000000</td>\n",
       "      <td>0.000000</td>\n",
       "      <td>2.000000</td>\n",
       "      <td>6.000000</td>\n",
       "      <td>0.000000</td>\n",
       "      <td>0.000000</td>\n",
       "    </tr>\n",
       "    <tr>\n",
       "      <th>50%</th>\n",
       "      <td>27.000000</td>\n",
       "      <td>2.000000</td>\n",
       "      <td>7.000000</td>\n",
       "      <td>460.000000</td>\n",
       "      <td>5.000000</td>\n",
       "      <td>51.000000</td>\n",
       "      <td>2.000000</td>\n",
       "      <td>0.000000</td>\n",
       "      <td>3.000000</td>\n",
       "      <td>10.000000</td>\n",
       "      <td>0.000000</td>\n",
       "      <td>0.000000</td>\n",
       "    </tr>\n",
       "    <tr>\n",
       "      <th>75%</th>\n",
       "      <td>30.000000</td>\n",
       "      <td>3.000000</td>\n",
       "      <td>15.000000</td>\n",
       "      <td>896.000000</td>\n",
       "      <td>5.500000</td>\n",
       "      <td>94.000000</td>\n",
       "      <td>2.000000</td>\n",
       "      <td>0.000000</td>\n",
       "      <td>4.000000</td>\n",
       "      <td>15.000000</td>\n",
       "      <td>1.000000</td>\n",
       "      <td>0.000000</td>\n",
       "    </tr>\n",
       "    <tr>\n",
       "      <th>max</th>\n",
       "      <td>38.000000</td>\n",
       "      <td>4.000000</td>\n",
       "      <td>75.000000</td>\n",
       "      <td>7664.000000</td>\n",
       "      <td>12.500000</td>\n",
       "      <td>264.000000</td>\n",
       "      <td>4.000000</td>\n",
       "      <td>1.000000</td>\n",
       "      <td>6.000000</td>\n",
       "      <td>20.000000</td>\n",
       "      <td>1.000000</td>\n",
       "      <td>1.000000</td>\n",
       "    </tr>\n",
       "  </tbody>\n",
       "</table>\n",
       "</div>"
      ],
      "text/plain": [
       "              age  position_cat  market_value   page_views   fpl_value  \\\n",
       "count  461.000000    461.000000    461.000000   461.000000  461.000000   \n",
       "mean    26.804772      2.180043     11.012039   763.776573    5.447939   \n",
       "std      3.961892      1.000061     12.257403   931.805757    1.346695   \n",
       "min     17.000000      1.000000      0.050000     3.000000    4.000000   \n",
       "25%     24.000000      1.000000      3.000000   220.000000    4.500000   \n",
       "50%     27.000000      2.000000      7.000000   460.000000    5.000000   \n",
       "75%     30.000000      3.000000     15.000000   896.000000    5.500000   \n",
       "max     38.000000      4.000000     75.000000  7664.000000   12.500000   \n",
       "\n",
       "       fpl_points      region  new_foreign     age_cat     club_id  \\\n",
       "count  461.000000  460.000000   461.000000  461.000000  461.000000   \n",
       "mean    57.314534    1.993478     0.034707    3.206074   10.334056   \n",
       "std     53.113811    0.957689     0.183236    1.279795    5.726475   \n",
       "min      0.000000    1.000000     0.000000    1.000000    1.000000   \n",
       "25%      5.000000    1.000000     0.000000    2.000000    6.000000   \n",
       "50%     51.000000    2.000000     0.000000    3.000000   10.000000   \n",
       "75%     94.000000    2.000000     0.000000    4.000000   15.000000   \n",
       "max    264.000000    4.000000     1.000000    6.000000   20.000000   \n",
       "\n",
       "         big_club  new_signing  \n",
       "count  461.000000   461.000000  \n",
       "mean     0.303688     0.145336  \n",
       "std      0.460349     0.352822  \n",
       "min      0.000000     0.000000  \n",
       "25%      0.000000     0.000000  \n",
       "50%      0.000000     0.000000  \n",
       "75%      1.000000     0.000000  \n",
       "max      1.000000     1.000000  "
      ]
     },
     "execution_count": 16,
     "metadata": {},
     "output_type": "execute_result"
    }
   ],
   "source": [
    "league_df.describe()"
   ]
  },
  {
   "cell_type": "markdown",
   "metadata": {
    "id": "xVY43v7rQPM9"
   },
   "source": [
    "### (Stratified) train/test split\n",
    "We want to make sure that the training and test data have appropriate representation of each region; it would be bad for the training data to entirely miss a region. This is especially important because some regions are rather rare.\n",
    "\n",
    "<div class=\"exercise\"><b>Exercise</b></div>\n",
    "**Questions**:\n",
    "1. Use the `train_test_split` function to and its 'stratify' argument to split the data, keeping equal representation of each region (This will not work out of the box on this data. Deal with the resulting issue).\n",
    "2. Deal with the issue you encountered above.\n",
    "3. How did you deal with the error generated by `train_test_split`? How did you justify your action? "
   ]
  },
  {
   "cell_type": "markdown",
   "metadata": {
    "id": "X_4zqt6WQPM9"
   },
   "source": [
    "*your answer here*:\n"
   ]
  },
  {
   "cell_type": "code",
   "execution_count": 27,
   "metadata": {
    "id": "bmSWpILhQPM9"
   },
   "outputs": [
    {
     "name": "stdout",
     "output_type": "stream",
     "text": [
      "region\n",
      "2.0    207\n",
      "1.0    156\n",
      "4.0     56\n",
      "3.0     41\n",
      "Name: count, dtype: int64\n"
     ]
    }
   ],
   "source": [
    "# your code here\n",
    "\n",
    "# Check counts of players per region\n",
    "region_counts = league_df['region'].value_counts()\n",
    "print(region_counts)\n",
    "\n",
    "# Select regions with at least 2 players (or any threshold you want)\n",
    "valid_regions = region_counts[region_counts >= 2].index\n",
    "\n",
    "# Filter the original dataframe to only keep these regions\n",
    "filtered_league_df = league_df[league_df['region'].isin(valid_regions)]\n",
    "\n",
    "# Now you can safely stratify on 'region' when splitting\n",
    "from sklearn.model_selection import train_test_split\n",
    "league_train, league_test = train_test_split(\n",
    "    filtered_league_df,\n",
    "    test_size=0.2,\n",
    "    random_state=42,\n",
    "    stratify=filtered_league_df['region']\n",
    ")\n"
   ]
  },
  {
   "cell_type": "code",
   "execution_count": 33,
   "metadata": {
    "id": "u10ix2eBQPM-"
   },
   "outputs": [
    {
     "data": {
      "text/plain": [
       "((92, 17), (368, 17))"
      ]
     },
     "execution_count": 33,
     "metadata": {},
     "output_type": "execute_result"
    }
   ],
   "source": [
    "league_test.shape, league_train.shape"
   ]
  },
  {
   "cell_type": "markdown",
   "metadata": {
    "id": "Ywt5IBlVQPM-"
   },
   "source": [
    "Now that we won't be peeking at the test set, let's explore and look for patterns! We'll introduce a number of useful pandas and numpy functions along the way. "
   ]
  },
  {
   "cell_type": "markdown",
   "metadata": {
    "id": "wwIc62H6QPM-"
   },
   "source": [
    "### Groupby\n",
    "Pandas' `.groupby()` function is a wonderful tool for data analysis. It allows us to analyze each of several subgroups.\n",
    "\n",
    "Many times, `.groupby()` is combined with `.agg()` to get a summary statistic for each subgroup. For instance: What is the average market value, median page views, and maximum fpl for each player position?"
   ]
  },
  {
   "cell_type": "code",
   "execution_count": 31,
   "metadata": {
    "id": "kSOekfi7QPM-",
    "scrolled": false
   },
   "outputs": [
    {
     "name": "stderr",
     "output_type": "stream",
     "text": [
      "C:\\Users\\douae\\AppData\\Local\\Temp\\ipykernel_11904\\2958919961.py:1: FutureWarning: The provided callable <function mean at 0x000002466C2C2980> is currently using SeriesGroupBy.mean. In a future version of pandas, the provided callable will be used directly. To keep current behavior pass the string \"mean\" instead.\n",
      "  league_train.groupby('position').agg({\n",
      "C:\\Users\\douae\\AppData\\Local\\Temp\\ipykernel_11904\\2958919961.py:1: FutureWarning: The provided callable <function median at 0x000002466C3F9440> is currently using SeriesGroupBy.median. In a future version of pandas, the provided callable will be used directly. To keep current behavior pass the string \"median\" instead.\n",
      "  league_train.groupby('position').agg({\n",
      "C:\\Users\\douae\\AppData\\Local\\Temp\\ipykernel_11904\\2958919961.py:1: FutureWarning: The provided callable <function max at 0x000002466C2C1F80> is currently using SeriesGroupBy.max. In a future version of pandas, the provided callable will be used directly. To keep current behavior pass the string \"max\" instead.\n",
      "  league_train.groupby('position').agg({\n"
     ]
    },
    {
     "data": {
      "text/html": [
       "<div>\n",
       "<style scoped>\n",
       "    .dataframe tbody tr th:only-of-type {\n",
       "        vertical-align: middle;\n",
       "    }\n",
       "\n",
       "    .dataframe tbody tr th {\n",
       "        vertical-align: top;\n",
       "    }\n",
       "\n",
       "    .dataframe thead th {\n",
       "        text-align: right;\n",
       "    }\n",
       "</style>\n",
       "<table border=\"1\" class=\"dataframe\">\n",
       "  <thead>\n",
       "    <tr style=\"text-align: right;\">\n",
       "      <th></th>\n",
       "      <th>market_value</th>\n",
       "      <th>page_views</th>\n",
       "      <th>fpl_points</th>\n",
       "    </tr>\n",
       "    <tr>\n",
       "      <th>position</th>\n",
       "      <th></th>\n",
       "      <th></th>\n",
       "      <th></th>\n",
       "    </tr>\n",
       "  </thead>\n",
       "  <tbody>\n",
       "    <tr>\n",
       "      <th>AM</th>\n",
       "      <td>25.983333</td>\n",
       "      <td>861.0</td>\n",
       "      <td>218</td>\n",
       "    </tr>\n",
       "    <tr>\n",
       "      <th>CB</th>\n",
       "      <td>8.034127</td>\n",
       "      <td>273.0</td>\n",
       "      <td>178</td>\n",
       "    </tr>\n",
       "    <tr>\n",
       "      <th>CF</th>\n",
       "      <td>13.433673</td>\n",
       "      <td>748.0</td>\n",
       "      <td>224</td>\n",
       "    </tr>\n",
       "    <tr>\n",
       "      <th>CM</th>\n",
       "      <td>11.355000</td>\n",
       "      <td>436.0</td>\n",
       "      <td>225</td>\n",
       "    </tr>\n",
       "    <tr>\n",
       "      <th>DM</th>\n",
       "      <td>13.803571</td>\n",
       "      <td>556.5</td>\n",
       "      <td>131</td>\n",
       "    </tr>\n",
       "    <tr>\n",
       "      <th>GK</th>\n",
       "      <td>6.381429</td>\n",
       "      <td>395.0</td>\n",
       "      <td>149</td>\n",
       "    </tr>\n",
       "    <tr>\n",
       "      <th>LB</th>\n",
       "      <td>8.393939</td>\n",
       "      <td>380.0</td>\n",
       "      <td>177</td>\n",
       "    </tr>\n",
       "    <tr>\n",
       "      <th>LM</th>\n",
       "      <td>4.450000</td>\n",
       "      <td>347.0</td>\n",
       "      <td>95</td>\n",
       "    </tr>\n",
       "    <tr>\n",
       "      <th>LW</th>\n",
       "      <td>12.367308</td>\n",
       "      <td>495.0</td>\n",
       "      <td>224</td>\n",
       "    </tr>\n",
       "    <tr>\n",
       "      <th>RB</th>\n",
       "      <td>7.958333</td>\n",
       "      <td>284.5</td>\n",
       "      <td>170</td>\n",
       "    </tr>\n",
       "    <tr>\n",
       "      <th>RM</th>\n",
       "      <td>7.750000</td>\n",
       "      <td>352.5</td>\n",
       "      <td>105</td>\n",
       "    </tr>\n",
       "    <tr>\n",
       "      <th>RW</th>\n",
       "      <td>11.259615</td>\n",
       "      <td>508.0</td>\n",
       "      <td>162</td>\n",
       "    </tr>\n",
       "    <tr>\n",
       "      <th>SS</th>\n",
       "      <td>7.500000</td>\n",
       "      <td>1161.0</td>\n",
       "      <td>178</td>\n",
       "    </tr>\n",
       "  </tbody>\n",
       "</table>\n",
       "</div>"
      ],
      "text/plain": [
       "          market_value  page_views  fpl_points\n",
       "position                                      \n",
       "AM           25.983333       861.0         218\n",
       "CB            8.034127       273.0         178\n",
       "CF           13.433673       748.0         224\n",
       "CM           11.355000       436.0         225\n",
       "DM           13.803571       556.5         131\n",
       "GK            6.381429       395.0         149\n",
       "LB            8.393939       380.0         177\n",
       "LM            4.450000       347.0          95\n",
       "LW           12.367308       495.0         224\n",
       "RB            7.958333       284.5         170\n",
       "RM            7.750000       352.5         105\n",
       "RW           11.259615       508.0         162\n",
       "SS            7.500000      1161.0         178"
      ]
     },
     "execution_count": 31,
     "metadata": {},
     "output_type": "execute_result"
    }
   ],
   "source": [
    "league_train.groupby('position').agg({\n",
    "    'market_value': np.mean,\n",
    "    'page_views': np.median,\n",
    "    'fpl_points': np.max\n",
    "})"
   ]
  },
  {
   "cell_type": "code",
   "execution_count": null,
   "metadata": {
    "id": "jyw_zYssQPM_"
   },
   "outputs": [
    {
     "data": {
      "text/plain": [
       "array(['CB', 'RB', 'CF', 'RW', 'GK', 'LW', 'CM', 'AM', 'LB', 'DM', 'SS',\n",
       "       'LM', 'RM'], dtype=object)"
      ]
     },
     "execution_count": 34,
     "metadata": {},
     "output_type": "execute_result"
    }
   ],
   "source": [
    "league_train.position.unique()"
   ]
  },
  {
   "cell_type": "code",
   "execution_count": 35,
   "metadata": {
    "id": "-PjN_YY9QPM_"
   },
   "outputs": [
    {
     "name": "stderr",
     "output_type": "stream",
     "text": [
      "C:\\Users\\douae\\AppData\\Local\\Temp\\ipykernel_11904\\2860371636.py:1: FutureWarning: The provided callable <function mean at 0x000002466C2C2980> is currently using SeriesGroupBy.mean. In a future version of pandas, the provided callable will be used directly. To keep current behavior pass the string \"mean\" instead.\n",
      "  league_train.groupby(['big_club', 'position']).agg({\n",
      "C:\\Users\\douae\\AppData\\Local\\Temp\\ipykernel_11904\\2860371636.py:1: FutureWarning: The provided callable <function mean at 0x000002466C2C2980> is currently using SeriesGroupBy.mean. In a future version of pandas, the provided callable will be used directly. To keep current behavior pass the string \"mean\" instead.\n",
      "  league_train.groupby(['big_club', 'position']).agg({\n"
     ]
    },
    {
     "data": {
      "text/html": [
       "<div>\n",
       "<style scoped>\n",
       "    .dataframe tbody tr th:only-of-type {\n",
       "        vertical-align: middle;\n",
       "    }\n",
       "\n",
       "    .dataframe tbody tr th {\n",
       "        vertical-align: top;\n",
       "    }\n",
       "\n",
       "    .dataframe thead th {\n",
       "        text-align: right;\n",
       "    }\n",
       "</style>\n",
       "<table border=\"1\" class=\"dataframe\">\n",
       "  <thead>\n",
       "    <tr style=\"text-align: right;\">\n",
       "      <th></th>\n",
       "      <th></th>\n",
       "      <th>market_value</th>\n",
       "      <th>page_views</th>\n",
       "      <th>fpl_points</th>\n",
       "    </tr>\n",
       "    <tr>\n",
       "      <th>big_club</th>\n",
       "      <th>position</th>\n",
       "      <th></th>\n",
       "      <th></th>\n",
       "      <th></th>\n",
       "    </tr>\n",
       "  </thead>\n",
       "  <tbody>\n",
       "    <tr>\n",
       "      <th rowspan=\"13\" valign=\"top\">0</th>\n",
       "      <th>AM</th>\n",
       "      <td>12.468750</td>\n",
       "      <td>469.750000</td>\n",
       "      <td>61.125000</td>\n",
       "    </tr>\n",
       "    <tr>\n",
       "      <th>CB</th>\n",
       "      <td>4.332979</td>\n",
       "      <td>287.617021</td>\n",
       "      <td>44.936170</td>\n",
       "    </tr>\n",
       "    <tr>\n",
       "      <th>CF</th>\n",
       "      <td>7.522727</td>\n",
       "      <td>756.000000</td>\n",
       "      <td>48.909091</td>\n",
       "    </tr>\n",
       "    <tr>\n",
       "      <th>CM</th>\n",
       "      <td>5.816176</td>\n",
       "      <td>345.058824</td>\n",
       "      <td>41.588235</td>\n",
       "    </tr>\n",
       "    <tr>\n",
       "      <th>DM</th>\n",
       "      <td>8.250000</td>\n",
       "      <td>448.312500</td>\n",
       "      <td>49.375000</td>\n",
       "    </tr>\n",
       "    <tr>\n",
       "      <th>GK</th>\n",
       "      <td>3.945652</td>\n",
       "      <td>318.260870</td>\n",
       "      <td>46.521739</td>\n",
       "    </tr>\n",
       "    <tr>\n",
       "      <th>LB</th>\n",
       "      <td>5.000000</td>\n",
       "      <td>252.869565</td>\n",
       "      <td>49.869565</td>\n",
       "    </tr>\n",
       "    <tr>\n",
       "      <th>LM</th>\n",
       "      <td>4.450000</td>\n",
       "      <td>396.200000</td>\n",
       "      <td>43.600000</td>\n",
       "    </tr>\n",
       "    <tr>\n",
       "      <th>LW</th>\n",
       "      <td>6.527778</td>\n",
       "      <td>485.000000</td>\n",
       "      <td>43.944444</td>\n",
       "    </tr>\n",
       "    <tr>\n",
       "      <th>RB</th>\n",
       "      <td>4.250000</td>\n",
       "      <td>272.000000</td>\n",
       "      <td>50.952381</td>\n",
       "    </tr>\n",
       "    <tr>\n",
       "      <th>RM</th>\n",
       "      <td>4.333333</td>\n",
       "      <td>280.333333</td>\n",
       "      <td>1.666667</td>\n",
       "    </tr>\n",
       "    <tr>\n",
       "      <th>RW</th>\n",
       "      <td>8.170455</td>\n",
       "      <td>574.363636</td>\n",
       "      <td>52.681818</td>\n",
       "    </tr>\n",
       "    <tr>\n",
       "      <th>SS</th>\n",
       "      <td>7.500000</td>\n",
       "      <td>2614.750000</td>\n",
       "      <td>73.000000</td>\n",
       "    </tr>\n",
       "    <tr>\n",
       "      <th rowspan=\"11\" valign=\"top\">1</th>\n",
       "      <th>AM</th>\n",
       "      <td>41.428571</td>\n",
       "      <td>2590.714286</td>\n",
       "      <td>152.714286</td>\n",
       "    </tr>\n",
       "    <tr>\n",
       "      <th>CB</th>\n",
       "      <td>18.906250</td>\n",
       "      <td>924.500000</td>\n",
       "      <td>63.687500</td>\n",
       "    </tr>\n",
       "    <tr>\n",
       "      <th>CF</th>\n",
       "      <td>25.625000</td>\n",
       "      <td>2209.812500</td>\n",
       "      <td>77.562500</td>\n",
       "    </tr>\n",
       "    <tr>\n",
       "      <th>CM</th>\n",
       "      <td>23.125000</td>\n",
       "      <td>1890.687500</td>\n",
       "      <td>76.125000</td>\n",
       "    </tr>\n",
       "    <tr>\n",
       "      <th>DM</th>\n",
       "      <td>21.208333</td>\n",
       "      <td>1266.250000</td>\n",
       "      <td>69.666667</td>\n",
       "    </tr>\n",
       "    <tr>\n",
       "      <th>GK</th>\n",
       "      <td>11.050000</td>\n",
       "      <td>670.333333</td>\n",
       "      <td>60.083333</td>\n",
       "    </tr>\n",
       "    <tr>\n",
       "      <th>LB</th>\n",
       "      <td>16.200000</td>\n",
       "      <td>875.200000</td>\n",
       "      <td>66.500000</td>\n",
       "    </tr>\n",
       "    <tr>\n",
       "      <th>LW</th>\n",
       "      <td>25.506250</td>\n",
       "      <td>2065.875000</td>\n",
       "      <td>101.000000</td>\n",
       "    </tr>\n",
       "    <tr>\n",
       "      <th>RB</th>\n",
       "      <td>16.611111</td>\n",
       "      <td>974.222222</td>\n",
       "      <td>90.888889</td>\n",
       "    </tr>\n",
       "    <tr>\n",
       "      <th>RM</th>\n",
       "      <td>18.000000</td>\n",
       "      <td>2537.000000</td>\n",
       "      <td>105.000000</td>\n",
       "    </tr>\n",
       "    <tr>\n",
       "      <th>RW</th>\n",
       "      <td>28.250000</td>\n",
       "      <td>1415.750000</td>\n",
       "      <td>78.000000</td>\n",
       "    </tr>\n",
       "  </tbody>\n",
       "</table>\n",
       "</div>"
      ],
      "text/plain": [
       "                   market_value   page_views  fpl_points\n",
       "big_club position                                       \n",
       "0        AM           12.468750   469.750000   61.125000\n",
       "         CB            4.332979   287.617021   44.936170\n",
       "         CF            7.522727   756.000000   48.909091\n",
       "         CM            5.816176   345.058824   41.588235\n",
       "         DM            8.250000   448.312500   49.375000\n",
       "         GK            3.945652   318.260870   46.521739\n",
       "         LB            5.000000   252.869565   49.869565\n",
       "         LM            4.450000   396.200000   43.600000\n",
       "         LW            6.527778   485.000000   43.944444\n",
       "         RB            4.250000   272.000000   50.952381\n",
       "         RM            4.333333   280.333333    1.666667\n",
       "         RW            8.170455   574.363636   52.681818\n",
       "         SS            7.500000  2614.750000   73.000000\n",
       "1        AM           41.428571  2590.714286  152.714286\n",
       "         CB           18.906250   924.500000   63.687500\n",
       "         CF           25.625000  2209.812500   77.562500\n",
       "         CM           23.125000  1890.687500   76.125000\n",
       "         DM           21.208333  1266.250000   69.666667\n",
       "         GK           11.050000   670.333333   60.083333\n",
       "         LB           16.200000   875.200000   66.500000\n",
       "         LW           25.506250  2065.875000  101.000000\n",
       "         RB           16.611111   974.222222   90.888889\n",
       "         RM           18.000000  2537.000000  105.000000\n",
       "         RW           28.250000  1415.750000   78.000000"
      ]
     },
     "execution_count": 35,
     "metadata": {},
     "output_type": "execute_result"
    }
   ],
   "source": [
    "league_train.groupby(['big_club', 'position']).agg({\n",
    "    'market_value': np.mean,\n",
    "    'page_views': np.mean,\n",
    "    'fpl_points': np.mean\n",
    "})"
   ]
  },
  {
   "cell_type": "markdown",
   "metadata": {
    "id": "CZiEsrTDQPM_"
   },
   "source": [
    "<hr style=\"height:3px\">\n",
    "## Part 2.2: Linear regression on the football data\n",
    "This section of the lab focuses on fitting a model to the football data and interpreting the model results. The model we'll use is\n",
    "\n",
    "$$\\text{market_value} \\approx \\beta_0 + \\beta_1\\text{fpl_points} + \\beta_2\\text{age} + \\beta_3\\text{age}^2 + \\beta_4log_2\\left(\\text{page_views}\\right) + \\beta_5\\text{new_signing} +\\beta_6\\text{big_club} + \\beta_7\\text{position_cat}$$\n",
    "\n",
    "We're including a 2nd degree polynomial in age because we expect pay to increase as a player gains experience, but then decrease as they continue aging. We're taking the log of page views because they have such a large, skewed range and the transformed variable will have fewer outliers that could bias the line. We choose the base of the log to be 2 just to make interpretation cleaner.\n",
    "\n",
    "<div class=\"exercise\"><b>Exercise</b></div>\n",
    "**Questions**:\n",
    "1. Build a design matrix function and fit this model to the training data. How good is the overall model?\n",
    "2. Interpret the regression model. What is the meaning of the coefficient for:\n",
    "    - age and age$^2$\n",
    "    - $log_2($page_views$)$\n",
    "    - big_club\n",
    "2. What should a player do in order to improve their market value? How many page views should a player go get to increase their market value by 10?"
   ]
  },
  {
   "cell_type": "code",
   "execution_count": 47,
   "metadata": {
    "id": "eu6ACkpnQPNA",
    "scrolled": false
   },
   "outputs": [],
   "source": [
    "def build_design_matrix(df):\n",
    "    X = pd.DataFrame()\n",
    "    X['fpl_points'] = df['fpl_points']\n",
    "    X['age'] = df['age']\n",
    "    X['age_squared'] = df['age'] ** 2\n",
    "    X['log2_page_views'] = np.log2(df['page_views'] + 1)\n",
    "    X['new_signing'] = df['new_signing']\n",
    "    X['big_club'] = df['big_club']\n",
    "    X['position_cat'] = df['position_cat']\n",
    "    return X\n",
    "\n",
    "X_train = build_design_matrix(league_train)\n",
    "y_train = league_train['market_value']\n",
    "X_test = build_design_matrix(league_test)\n",
    "y_test = league_test['market_value']\n",
    "\n",
    "\n"
   ]
  },
  {
   "cell_type": "code",
   "execution_count": 40,
   "metadata": {
    "id": "Q10XND0tQPNA"
   },
   "outputs": [
    {
     "name": "stdout",
     "output_type": "stream",
     "text": [
      "                            OLS Regression Results                            \n",
      "==============================================================================\n",
      "Dep. Variable:           market_value   R-squared:                       0.652\n",
      "Model:                            OLS   Adj. R-squared:                  0.645\n",
      "Method:                 Least Squares   F-statistic:                     96.16\n",
      "Date:                Fri, 23 May 2025   Prob (F-statistic):           1.79e-78\n",
      "Time:                        20:46:57   Log-Likelihood:                -1247.0\n",
      "No. Observations:                 368   AIC:                             2510.\n",
      "Df Residuals:                     360   BIC:                             2541.\n",
      "Df Model:                           7                                         \n",
      "Covariance Type:            nonrobust                                         \n",
      "===================================================================================\n",
      "                      coef    std err          t      P>|t|      [0.025      0.975]\n",
      "-----------------------------------------------------------------------------------\n",
      "const             -74.8329     14.208     -5.267      0.000    -102.774     -46.891\n",
      "fpl_points          0.0785      0.009      8.630      0.000       0.061       0.096\n",
      "age                 5.0946      1.009      5.051      0.000       3.111       7.078\n",
      "age_squared        -0.1019      0.018     -5.516      0.000      -0.138      -0.066\n",
      "log2_page_views     2.0718      0.393      5.274      0.000       1.299       2.844\n",
      "new_signing         1.3215      1.071      1.234      0.218      -0.785       3.428\n",
      "big_club            8.5239      1.073      7.941      0.000       6.413      10.635\n",
      "position_cat       -0.7210      0.436     -1.654      0.099      -1.578       0.136\n",
      "==============================================================================\n",
      "Omnibus:                      142.898   Durbin-Watson:                   1.953\n",
      "Prob(Omnibus):                  0.000   Jarque-Bera (JB):              716.014\n",
      "Skew:                           1.586   Prob(JB):                    3.31e-156\n",
      "Kurtosis:                       9.053   Cond. No.                     2.90e+04\n",
      "==============================================================================\n",
      "\n",
      "Notes:\n",
      "[1] Standard Errors assume that the covariance matrix of the errors is correctly specified.\n",
      "[2] The condition number is large, 2.9e+04. This might indicate that there are\n",
      "strong multicollinearity or other numerical problems.\n"
     ]
    }
   ],
   "source": [
    "# your code here\n",
    "\n",
    "X_train_sm = sm.add_constant(X_train)\n",
    "fitted_model_1 = sm.OLS(y_train, X_train_sm).fit()\n",
    "\n",
    "# STEP 3: Model evaluation\n",
    "print(fitted_model_1.summary())"
   ]
  },
  {
   "cell_type": "markdown",
   "metadata": {
    "id": "d_2FaxL3QPNA"
   },
   "source": [
    "*your answer here*\n"
   ]
  },
  {
   "cell_type": "code",
   "execution_count": 41,
   "metadata": {
    "id": "3aO4kNSQQPNA"
   },
   "outputs": [],
   "source": [
    "agecoef = fitted_model_1.params.age\n",
    "age2coef = fitted_model_1.params.age_squared"
   ]
  },
  {
   "cell_type": "code",
   "execution_count": 42,
   "metadata": {
    "id": "Z8kwTp9ZQPNA"
   },
   "outputs": [
    {
     "data": {
      "image/png": "[encoded data removed]",
      "text/plain": [
       "<Figure size 640x480 with 1 Axes>"
      ]
     },
     "metadata": {},
     "output_type": "display_data"
    }
   ],
   "source": [
    "x_vals = np.linspace(-100,100,1000)\n",
    "y_vals = agecoef*x_vals +age2coef*x_vals**2\n",
    "plt.plot(x_vals, y_vals)\n",
    "plt.title(\"Effect of Age\")\n",
    "plt.xlabel(\"Age\")\n",
    "plt.ylabel(\"Contribution to Predicted Market Value\")\n",
    "plt.show()"
   ]
  },
  {
   "cell_type": "markdown",
   "metadata": {
    "id": "psBAF9b7QPNB"
   },
   "source": [
    "<hr style='height:3px'>\n",
    "### Part 2.3: Turning Categorical Variables into multiple binary variables\n",
    "Of course, we have an error in how we've included player position. Even though the variable is numeric (1,2,3,4) and the model runs without issue, the value we're getting back is garbage. The interpretation, such as it is, is that there is an equal effect of moving from position category 1 to 2, from 2 to 3, and from 3 to 4, and that this effect is about -.61.\n",
    "\n",
    "In reality, we don't expect moving from one position category to another to be equivalent, nor for a move from category 1 to category 3 to be twice as important as a move from category 1 to category 2. We need to introduce better features to model this variable.\n",
    "\n",
    "We'll use `pd.get_dummies` to do the work for us."
   ]
  },
  {
   "cell_type": "code",
   "execution_count": 58,
   "metadata": {
    "id": "ClzWL87jQPNB"
   },
   "outputs": [
    {
     "data": {
      "text/html": [
       "<div>\n",
       "<style scoped>\n",
       "    .dataframe tbody tr th:only-of-type {\n",
       "        vertical-align: middle;\n",
       "    }\n",
       "\n",
       "    .dataframe tbody tr th {\n",
       "        vertical-align: top;\n",
       "    }\n",
       "\n",
       "    .dataframe thead th {\n",
       "        text-align: right;\n",
       "    }\n",
       "</style>\n",
       "<table border=\"1\" class=\"dataframe\">\n",
       "  <thead>\n",
       "    <tr style=\"text-align: right;\">\n",
       "      <th></th>\n",
       "      <th>name</th>\n",
       "      <th>club</th>\n",
       "      <th>age</th>\n",
       "      <th>position</th>\n",
       "      <th>market_value</th>\n",
       "      <th>page_views</th>\n",
       "      <th>fpl_value</th>\n",
       "      <th>fpl_sel</th>\n",
       "      <th>fpl_points</th>\n",
       "      <th>region</th>\n",
       "      <th>nationality</th>\n",
       "      <th>new_foreign</th>\n",
       "      <th>age_cat</th>\n",
       "      <th>club_id</th>\n",
       "      <th>big_club</th>\n",
       "      <th>new_signing</th>\n",
       "      <th>position_cat_2</th>\n",
       "      <th>position_cat_3</th>\n",
       "      <th>position_cat_4</th>\n",
       "    </tr>\n",
       "  </thead>\n",
       "  <tbody>\n",
       "    <tr>\n",
       "      <th>229</th>\n",
       "      <td>Mamadou Sakho</td>\n",
       "      <td>Liverpool</td>\n",
       "      <td>27</td>\n",
       "      <td>CB</td>\n",
       "      <td>15.0</td>\n",
       "      <td>934</td>\n",
       "      <td>5.0</td>\n",
       "      <td>0.10%</td>\n",
       "      <td>35</td>\n",
       "      <td>2.0</td>\n",
       "      <td>France</td>\n",
       "      <td>0</td>\n",
       "      <td>3</td>\n",
       "      <td>10</td>\n",
       "      <td>1</td>\n",
       "      <td>0</td>\n",
       "      <td>False</td>\n",
       "      <td>True</td>\n",
       "      <td>False</td>\n",
       "    </tr>\n",
       "    <tr>\n",
       "      <th>287</th>\n",
       "      <td>DeAndre Yedlin</td>\n",
       "      <td>Newcastle+United</td>\n",
       "      <td>24</td>\n",
       "      <td>RB</td>\n",
       "      <td>5.0</td>\n",
       "      <td>764</td>\n",
       "      <td>4.5</td>\n",
       "      <td>5.20%</td>\n",
       "      <td>0</td>\n",
       "      <td>3.0</td>\n",
       "      <td>United States</td>\n",
       "      <td>0</td>\n",
       "      <td>2</td>\n",
       "      <td>13</td>\n",
       "      <td>0</td>\n",
       "      <td>0</td>\n",
       "      <td>False</td>\n",
       "      <td>True</td>\n",
       "      <td>False</td>\n",
       "    </tr>\n",
       "    <tr>\n",
       "      <th>27</th>\n",
       "      <td>Alexandre Lacazette</td>\n",
       "      <td>Arsenal</td>\n",
       "      <td>26</td>\n",
       "      <td>CF</td>\n",
       "      <td>40.0</td>\n",
       "      <td>1183</td>\n",
       "      <td>10.5</td>\n",
       "      <td>26.50%</td>\n",
       "      <td>0</td>\n",
       "      <td>2.0</td>\n",
       "      <td>France</td>\n",
       "      <td>1</td>\n",
       "      <td>3</td>\n",
       "      <td>1</td>\n",
       "      <td>1</td>\n",
       "      <td>0</td>\n",
       "      <td>False</td>\n",
       "      <td>False</td>\n",
       "      <td>False</td>\n",
       "    </tr>\n",
       "    <tr>\n",
       "      <th>44</th>\n",
       "      <td>Jordon Ibe</td>\n",
       "      <td>Bournemouth</td>\n",
       "      <td>21</td>\n",
       "      <td>RW</td>\n",
       "      <td>8.0</td>\n",
       "      <td>504</td>\n",
       "      <td>5.0</td>\n",
       "      <td>0.40%</td>\n",
       "      <td>36</td>\n",
       "      <td>1.0</td>\n",
       "      <td>England</td>\n",
       "      <td>0</td>\n",
       "      <td>1</td>\n",
       "      <td>2</td>\n",
       "      <td>0</td>\n",
       "      <td>0</td>\n",
       "      <td>False</td>\n",
       "      <td>False</td>\n",
       "      <td>False</td>\n",
       "    </tr>\n",
       "    <tr>\n",
       "      <th>355</th>\n",
       "      <td>Alfie Mawson</td>\n",
       "      <td>Swansea</td>\n",
       "      <td>23</td>\n",
       "      <td>CB</td>\n",
       "      <td>6.0</td>\n",
       "      <td>509</td>\n",
       "      <td>5.0</td>\n",
       "      <td>1.80%</td>\n",
       "      <td>94</td>\n",
       "      <td>1.0</td>\n",
       "      <td>England</td>\n",
       "      <td>0</td>\n",
       "      <td>2</td>\n",
       "      <td>16</td>\n",
       "      <td>0</td>\n",
       "      <td>1</td>\n",
       "      <td>False</td>\n",
       "      <td>True</td>\n",
       "      <td>False</td>\n",
       "    </tr>\n",
       "  </tbody>\n",
       "</table>\n",
       "</div>"
      ],
      "text/plain": [
       "                    name              club  age position  market_value  \\\n",
       "229        Mamadou Sakho         Liverpool   27       CB          15.0   \n",
       "287       DeAndre Yedlin  Newcastle+United   24       RB           5.0   \n",
       "27   Alexandre Lacazette           Arsenal   26       CF          40.0   \n",
       "44            Jordon Ibe       Bournemouth   21       RW           8.0   \n",
       "355         Alfie Mawson           Swansea   23       CB           6.0   \n",
       "\n",
       "     page_views  fpl_value fpl_sel  fpl_points  region    nationality  \\\n",
       "229         934        5.0   0.10%          35     2.0         France   \n",
       "287         764        4.5   5.20%           0     3.0  United States   \n",
       "27         1183       10.5  26.50%           0     2.0         France   \n",
       "44          504        5.0   0.40%          36     1.0        England   \n",
       "355         509        5.0   1.80%          94     1.0        England   \n",
       "\n",
       "     new_foreign  age_cat  club_id  big_club  new_signing  position_cat_2  \\\n",
       "229            0        3       10         1            0           False   \n",
       "287            0        2       13         0            0           False   \n",
       "27             1        3        1         1            0           False   \n",
       "44             0        1        2         0            0           False   \n",
       "355            0        2       16         0            1           False   \n",
       "\n",
       "     position_cat_3  position_cat_4  \n",
       "229            True           False  \n",
       "287            True           False  \n",
       "27            False           False  \n",
       "44            False           False  \n",
       "355            True           False  "
      ]
     },
     "execution_count": 58,
     "metadata": {},
     "output_type": "execute_result"
    }
   ],
   "source": [
    "train_design_recoded = pd.get_dummies(league_train, columns=['position_cat'], drop_first=True)\n",
    "test_design_recoded = pd.get_dummies(league_test, columns=['position_cat'], drop_first=True)\n",
    "\n",
    "train_design_recoded.head()"
   ]
  },
  {
   "cell_type": "markdown",
   "metadata": {
    "id": "ovIKRQEcQPNB"
   },
   "source": [
    "We've removed the original `position_cat` column and created three new ones.\n",
    "\n",
    "#### Why only three new columns?\n",
    "Why does pandas give us the option to drop the first category? \n",
    "\n",
    "<div class=\"exercise\"><b>Exercise</b></div>\n",
    "**Questions**:\n",
    "1. If we're fitting a model without a constant, should we have three dummy columns or four dummy columns?\n",
    "2. Fit a model and interpret the coefficient of `position_cat_2`.\n"
   ]
  },
  {
   "cell_type": "code",
   "execution_count": 56,
   "metadata": {},
   "outputs": [
    {
     "name": "stdout",
     "output_type": "stream",
     "text": [
      "name               object\n",
      "club               object\n",
      "age                 int64\n",
      "position           object\n",
      "market_value      float64\n",
      "page_views          int64\n",
      "fpl_value         float64\n",
      "fpl_sel            object\n",
      "fpl_points          int64\n",
      "region            float64\n",
      "nationality        object\n",
      "new_foreign         int64\n",
      "age_cat             int64\n",
      "club_id             int64\n",
      "big_club            int64\n",
      "new_signing         int64\n",
      "position_cat_2       bool\n",
      "position_cat_3       bool\n",
      "position_cat_4       bool\n",
      "dtype: object\n"
     ]
    }
   ],
   "source": [
    "print(train_design_recoded.dtypes)\n"
   ]
  },
  {
   "cell_type": "code",
   "execution_count": 62,
   "metadata": {},
   "outputs": [],
   "source": [
    "non_numeric_cols = ['name', 'club', 'position', 'fpl_sel', 'nationality']\n",
    "train_design_clean = train_design_recoded.drop(columns=non_numeric_cols, errors='ignore')\n",
    "test_design_clean = test_design_recoded.drop(columns=non_numeric_cols, errors='ignore')\n",
    "\n",
    "# Convert bool columns to int (if any)\n",
    "bool_cols = [col for col in train_design_clean.columns if train_design_clean[col].dtype == 'bool']\n",
    "for col in bool_cols:\n",
    "    train_design_clean[col] = train_design_clean[col].astype(int)\n",
    "    test_design_clean[col] = test_design_clean[col].astype(int)\n",
    "\n",
    "train_design_clean = sm.add_constant(train_design_clean)\n",
    "test_design_clean = sm.add_constant(test_design_clean)\n"
   ]
  },
  {
   "cell_type": "code",
   "execution_count": 63,
   "metadata": {
    "id": "6ZjPoZsUQPNB"
   },
   "outputs": [
    {
     "data": {
      "text/html": [
       "<table class=\"simpletable\">\n",
       "<caption>OLS Regression Results</caption>\n",
       "<tr>\n",
       "  <th>Dep. Variable:</th>      <td>market_value</td>   <th>  R-squared:         </th>  <td>   1.000</td> \n",
       "</tr>\n",
       "<tr>\n",
       "  <th>Model:</th>                   <td>OLS</td>       <th>  Adj. R-squared:    </th>  <td>   1.000</td> \n",
       "</tr>\n",
       "<tr>\n",
       "  <th>Method:</th>             <td>Least Squares</td>  <th>  F-statistic:       </th>  <td>2.393e+29</td>\n",
       "</tr>\n",
       "<tr>\n",
       "  <th>Date:</th>             <td>Fri, 23 May 2025</td> <th>  Prob (F-statistic):</th>   <td>  0.00</td>  \n",
       "</tr>\n",
       "<tr>\n",
       "  <th>Time:</th>                 <td>21:32:44</td>     <th>  Log-Likelihood:    </th>  <td>  10412.</td> \n",
       "</tr>\n",
       "<tr>\n",
       "  <th>No. Observations:</th>      <td>   368</td>      <th>  AIC:               </th> <td>-2.079e+04</td>\n",
       "</tr>\n",
       "<tr>\n",
       "  <th>Df Residuals:</th>          <td>   353</td>      <th>  BIC:               </th> <td>-2.074e+04</td>\n",
       "</tr>\n",
       "<tr>\n",
       "  <th>Df Model:</th>              <td>    14</td>      <th>                     </th>      <td> </td>    \n",
       "</tr>\n",
       "<tr>\n",
       "  <th>Covariance Type:</th>      <td>nonrobust</td>    <th>                     </th>      <td> </td>    \n",
       "</tr>\n",
       "</table>\n",
       "<table class=\"simpletable\">\n",
       "<tr>\n",
       "         <td></td>           <th>coef</th>     <th>std err</th>      <th>t</th>      <th>P>|t|</th>  <th>[0.025</th>    <th>0.975]</th>  \n",
       "</tr>\n",
       "<tr>\n",
       "  <th>const</th>          <td>-3.553e-15</td> <td> 1.44e-13</td> <td>   -0.025</td> <td> 0.980</td> <td>-2.87e-13</td> <td>  2.8e-13</td>\n",
       "</tr>\n",
       "<tr>\n",
       "  <th>age</th>            <td>  1.11e-16</td> <td> 7.44e-15</td> <td>    0.015</td> <td> 0.988</td> <td>-1.45e-14</td> <td> 1.47e-14</td>\n",
       "</tr>\n",
       "<tr>\n",
       "  <th>market_value</th>   <td>    1.0000</td> <td> 1.13e-15</td> <td> 8.84e+14</td> <td> 0.000</td> <td>    1.000</td> <td>    1.000</td>\n",
       "</tr>\n",
       "<tr>\n",
       "  <th>page_views</th>     <td>-1.216e-16</td> <td> 1.14e-17</td> <td>  -10.658</td> <td> 0.000</td> <td>-1.44e-16</td> <td>-9.92e-17</td>\n",
       "</tr>\n",
       "<tr>\n",
       "  <th>fpl_value</th>      <td>-1.776e-15</td> <td> 1.18e-14</td> <td>   -0.151</td> <td> 0.880</td> <td>-2.49e-14</td> <td> 2.14e-14</td>\n",
       "</tr>\n",
       "<tr>\n",
       "  <th>fpl_points</th>     <td> 2.828e-16</td> <td> 1.94e-16</td> <td>    1.459</td> <td> 0.146</td> <td>-9.85e-17</td> <td> 6.64e-16</td>\n",
       "</tr>\n",
       "<tr>\n",
       "  <th>region</th>         <td>-1.388e-16</td> <td> 7.24e-15</td> <td>   -0.019</td> <td> 0.985</td> <td>-1.44e-14</td> <td> 1.41e-14</td>\n",
       "</tr>\n",
       "<tr>\n",
       "  <th>new_foreign</th>    <td> 5.329e-15</td> <td> 4.23e-14</td> <td>    0.126</td> <td> 0.900</td> <td>-7.78e-14</td> <td> 8.84e-14</td>\n",
       "</tr>\n",
       "<tr>\n",
       "  <th>age_cat</th>        <td>         0</td> <td> 2.25e-14</td> <td>        0</td> <td> 1.000</td> <td>-4.43e-14</td> <td> 4.43e-14</td>\n",
       "</tr>\n",
       "<tr>\n",
       "  <th>club_id</th>        <td> 2.637e-16</td> <td> 1.18e-15</td> <td>    0.223</td> <td> 0.824</td> <td>-2.06e-15</td> <td> 2.59e-15</td>\n",
       "</tr>\n",
       "<tr>\n",
       "  <th>big_club</th>       <td> 8.882e-16</td> <td> 1.91e-14</td> <td>    0.047</td> <td> 0.963</td> <td>-3.66e-14</td> <td> 3.84e-14</td>\n",
       "</tr>\n",
       "<tr>\n",
       "  <th>new_signing</th>    <td> 2.665e-15</td> <td> 1.93e-14</td> <td>    0.138</td> <td> 0.890</td> <td>-3.53e-14</td> <td> 4.06e-14</td>\n",
       "</tr>\n",
       "<tr>\n",
       "  <th>position_cat_2</th> <td> 3.331e-16</td> <td> 2.23e-14</td> <td>    0.015</td> <td> 0.988</td> <td>-4.35e-14</td> <td> 4.42e-14</td>\n",
       "</tr>\n",
       "<tr>\n",
       "  <th>position_cat_3</th> <td>         0</td> <td> 2.15e-14</td> <td>        0</td> <td> 1.000</td> <td>-4.24e-14</td> <td> 4.24e-14</td>\n",
       "</tr>\n",
       "<tr>\n",
       "  <th>position_cat_4</th> <td>-6.661e-16</td> <td> 3.02e-14</td> <td>   -0.022</td> <td> 0.982</td> <td>-6.01e-14</td> <td> 5.88e-14</td>\n",
       "</tr>\n",
       "</table>\n",
       "<table class=\"simpletable\">\n",
       "<tr>\n",
       "  <th>Omnibus:</th>       <td>330.838</td> <th>  Durbin-Watson:     </th> <td>   1.404</td>\n",
       "</tr>\n",
       "<tr>\n",
       "  <th>Prob(Omnibus):</th> <td> 0.000</td>  <th>  Jarque-Bera (JB):  </th> <td>7524.734</td>\n",
       "</tr>\n",
       "<tr>\n",
       "  <th>Skew:</th>          <td> 3.813</td>  <th>  Prob(JB):          </th> <td>    0.00</td>\n",
       "</tr>\n",
       "<tr>\n",
       "  <th>Kurtosis:</th>      <td>23.799</td>  <th>  Cond. No.          </th> <td>2.68e+04</td>\n",
       "</tr>\n",
       "</table><br/><br/>Notes:<br/>[1] Standard Errors assume that the covariance matrix of the errors is correctly specified.<br/>[2] The condition number is large, 2.68e+04. This might indicate that there are<br/>strong multicollinearity or other numerical problems."
      ],
      "text/latex": [
       "\\begin{center}\n",
       "\\begin{tabular}{lclc}\n",
       "\\toprule\n",
       "\\textbf{Dep. Variable:}    &  market\\_value   & \\textbf{  R-squared:         } &     1.000   \\\\\n",
       "\\textbf{Model:}            &       OLS        & \\textbf{  Adj. R-squared:    } &     1.000   \\\\\n",
       "\\textbf{Method:}           &  Least Squares   & \\textbf{  F-statistic:       } & 2.393e+29   \\\\\n",
       "\\textbf{Date:}             & Fri, 23 May 2025 & \\textbf{  Prob (F-statistic):} &     0.00    \\\\\n",
       "\\textbf{Time:}             &     21:32:44     & \\textbf{  Log-Likelihood:    } &    10412.   \\\\\n",
       "\\textbf{No. Observations:} &         368      & \\textbf{  AIC:               } & -2.079e+04  \\\\\n",
       "\\textbf{Df Residuals:}     &         353      & \\textbf{  BIC:               } & -2.074e+04  \\\\\n",
       "\\textbf{Df Model:}         &          14      & \\textbf{                     } &             \\\\\n",
       "\\textbf{Covariance Type:}  &    nonrobust     & \\textbf{                     } &             \\\\\n",
       "\\bottomrule\n",
       "\\end{tabular}\n",
       "\\begin{tabular}{lcccccc}\n",
       "                          & \\textbf{coef} & \\textbf{std err} & \\textbf{t} & \\textbf{P$> |$t$|$} & \\textbf{[0.025} & \\textbf{0.975]}  \\\\\n",
       "\\midrule\n",
       "\\textbf{const}            &   -3.553e-15  &     1.44e-13     &    -0.025  &         0.980        &    -2.87e-13    &      2.8e-13     \\\\\n",
       "\\textbf{age}              &     1.11e-16  &     7.44e-15     &     0.015  &         0.988        &    -1.45e-14    &     1.47e-14     \\\\\n",
       "\\textbf{market\\_value}    &       1.0000  &     1.13e-15     &  8.84e+14  &         0.000        &        1.000    &        1.000     \\\\\n",
       "\\textbf{page\\_views}      &   -1.216e-16  &     1.14e-17     &   -10.658  &         0.000        &    -1.44e-16    &    -9.92e-17     \\\\\n",
       "\\textbf{fpl\\_value}       &   -1.776e-15  &     1.18e-14     &    -0.151  &         0.880        &    -2.49e-14    &     2.14e-14     \\\\\n",
       "\\textbf{fpl\\_points}      &    2.828e-16  &     1.94e-16     &     1.459  &         0.146        &    -9.85e-17    &     6.64e-16     \\\\\n",
       "\\textbf{region}           &   -1.388e-16  &     7.24e-15     &    -0.019  &         0.985        &    -1.44e-14    &     1.41e-14     \\\\\n",
       "\\textbf{new\\_foreign}     &    5.329e-15  &     4.23e-14     &     0.126  &         0.900        &    -7.78e-14    &     8.84e-14     \\\\\n",
       "\\textbf{age\\_cat}         &            0  &     2.25e-14     &         0  &         1.000        &    -4.43e-14    &     4.43e-14     \\\\\n",
       "\\textbf{club\\_id}         &    2.637e-16  &     1.18e-15     &     0.223  &         0.824        &    -2.06e-15    &     2.59e-15     \\\\\n",
       "\\textbf{big\\_club}        &    8.882e-16  &     1.91e-14     &     0.047  &         0.963        &    -3.66e-14    &     3.84e-14     \\\\\n",
       "\\textbf{new\\_signing}     &    2.665e-15  &     1.93e-14     &     0.138  &         0.890        &    -3.53e-14    &     4.06e-14     \\\\\n",
       "\\textbf{position\\_cat\\_2} &    3.331e-16  &     2.23e-14     &     0.015  &         0.988        &    -4.35e-14    &     4.42e-14     \\\\\n",
       "\\textbf{position\\_cat\\_3} &            0  &     2.15e-14     &         0  &         1.000        &    -4.24e-14    &     4.24e-14     \\\\\n",
       "\\textbf{position\\_cat\\_4} &   -6.661e-16  &     3.02e-14     &    -0.022  &         0.982        &    -6.01e-14    &     5.88e-14     \\\\\n",
       "\\bottomrule\n",
       "\\end{tabular}\n",
       "\\begin{tabular}{lclc}\n",
       "\\textbf{Omnibus:}       & 330.838 & \\textbf{  Durbin-Watson:     } &    1.404  \\\\\n",
       "\\textbf{Prob(Omnibus):} &   0.000 & \\textbf{  Jarque-Bera (JB):  } & 7524.734  \\\\\n",
       "\\textbf{Skew:}          &   3.813 & \\textbf{  Prob(JB):          } &     0.00  \\\\\n",
       "\\textbf{Kurtosis:}      &  23.799 & \\textbf{  Cond. No.          } & 2.68e+04  \\\\\n",
       "\\bottomrule\n",
       "\\end{tabular}\n",
       "%\\caption{OLS Regression Results}\n",
       "\\end{center}\n",
       "\n",
       "Notes: \\newline\n",
       " [1] Standard Errors assume that the covariance matrix of the errors is correctly specified. \\newline\n",
       " [2] The condition number is large, 2.68e+04. This might indicate that there are \\newline\n",
       " strong multicollinearity or other numerical problems."
      ],
      "text/plain": [
       "<class 'statsmodels.iolib.summary.Summary'>\n",
       "\"\"\"\n",
       "                            OLS Regression Results                            \n",
       "==============================================================================\n",
       "Dep. Variable:           market_value   R-squared:                       1.000\n",
       "Model:                            OLS   Adj. R-squared:                  1.000\n",
       "Method:                 Least Squares   F-statistic:                 2.393e+29\n",
       "Date:                Fri, 23 May 2025   Prob (F-statistic):               0.00\n",
       "Time:                        21:32:44   Log-Likelihood:                 10412.\n",
       "No. Observations:                 368   AIC:                        -2.079e+04\n",
       "Df Residuals:                     353   BIC:                        -2.074e+04\n",
       "Df Model:                          14                                         \n",
       "Covariance Type:            nonrobust                                         \n",
       "==================================================================================\n",
       "                     coef    std err          t      P>|t|      [0.025      0.975]\n",
       "----------------------------------------------------------------------------------\n",
       "const          -3.553e-15   1.44e-13     -0.025      0.980   -2.87e-13     2.8e-13\n",
       "age              1.11e-16   7.44e-15      0.015      0.988   -1.45e-14    1.47e-14\n",
       "market_value       1.0000   1.13e-15   8.84e+14      0.000       1.000       1.000\n",
       "page_views     -1.216e-16   1.14e-17    -10.658      0.000   -1.44e-16   -9.92e-17\n",
       "fpl_value      -1.776e-15   1.18e-14     -0.151      0.880   -2.49e-14    2.14e-14\n",
       "fpl_points      2.828e-16   1.94e-16      1.459      0.146   -9.85e-17    6.64e-16\n",
       "region         -1.388e-16   7.24e-15     -0.019      0.985   -1.44e-14    1.41e-14\n",
       "new_foreign     5.329e-15   4.23e-14      0.126      0.900   -7.78e-14    8.84e-14\n",
       "age_cat                 0   2.25e-14          0      1.000   -4.43e-14    4.43e-14\n",
       "club_id         2.637e-16   1.18e-15      0.223      0.824   -2.06e-15    2.59e-15\n",
       "big_club        8.882e-16   1.91e-14      0.047      0.963   -3.66e-14    3.84e-14\n",
       "new_signing     2.665e-15   1.93e-14      0.138      0.890   -3.53e-14    4.06e-14\n",
       "position_cat_2  3.331e-16   2.23e-14      0.015      0.988   -4.35e-14    4.42e-14\n",
       "position_cat_3          0   2.15e-14          0      1.000   -4.24e-14    4.24e-14\n",
       "position_cat_4 -6.661e-16   3.02e-14     -0.022      0.982   -6.01e-14    5.88e-14\n",
       "==============================================================================\n",
       "Omnibus:                      330.838   Durbin-Watson:                   1.404\n",
       "Prob(Omnibus):                  0.000   Jarque-Bera (JB):             7524.734\n",
       "Skew:                           3.813   Prob(JB):                         0.00\n",
       "Kurtosis:                      23.799   Cond. No.                     2.68e+04\n",
       "==============================================================================\n",
       "\n",
       "Notes:\n",
       "[1] Standard Errors assume that the covariance matrix of the errors is correctly specified.\n",
       "[2] The condition number is large, 2.68e+04. This might indicate that there are\n",
       "strong multicollinearity or other numerical problems.\n",
       "\"\"\""
      ]
     },
     "execution_count": 63,
     "metadata": {},
     "output_type": "execute_result"
    }
   ],
   "source": [
    "resu = OLS(y_train, train_design_clean).fit()\n",
    "resu.summary()"
   ]
  },
  {
   "cell_type": "code",
   "execution_count": 68,
   "metadata": {
    "id": "6T1T-Ve4QPNC"
   },
   "outputs": [
    {
     "data": {
      "text/plain": [
       "1.0"
      ]
     },
     "execution_count": 68,
     "metadata": {},
     "output_type": "execute_result"
    }
   ],
   "source": [
    "y_pred_test = resu.predict(test_design_clean)\n",
    "\n",
    "r2 = r2_score(y_test, y_pred_test)\n",
    "\n",
    "r2"
   ]
  },
  {
   "cell_type": "code",
   "execution_count": 69,
   "metadata": {
    "id": "vwZN59GqQPNC"
   },
   "outputs": [
    {
     "data": {
      "text/plain": [
       "((368, 19), (368,))"
      ]
     },
     "execution_count": 69,
     "metadata": {},
     "output_type": "execute_result"
    }
   ],
   "source": [
    "train_design_recoded.shape, y_train.shape"
   ]
  },
  {
   "cell_type": "markdown",
   "metadata": {
    "id": "8iKN6SaAQPNC"
   },
   "source": [
    "**Answers**:\n",
    "1. If our model does not have a constant, we must include all four dummy variable columns. If we drop one, we're not modeling any effect of being in that category, and effectively assuming the dropped category's effect is 0.\n",
    "2. Being in position 2 (instead of position 1) has an impact between -1.54 and +2.38 on a player's market value. Since we're using an intercept, the dropped category becomes the baseline and the effect of any dummy variable is the effect of being in that category instead of the baseline category."
   ]
  },
  {
   "cell_type": "markdown",
   "metadata": {
    "id": "bvjc_11rQPNC"
   },
   "source": [
    "## Part 3: A nice trick for forward-backwards\n",
    "\n",
    "XOR (operator ^) is a logical operation that only returns true when input differ. We can use it to implement forward-or-backwards selection when we want to keep track of whet predictors are \"left\" from a given list of predictors.\n",
    "\n",
    "The set analog is \"symmetric difference\". From the python docs:\n",
    "\n",
    "`s.symmetric_difference(t)\ts ^ t\tnew set with elements in either s or t but not both`\n"
   ]
  },
  {
   "cell_type": "code",
   "execution_count": 51,
   "metadata": {
    "id": "fTFMfVdhQPND"
   },
   "outputs": [
    {
     "data": {
      "text/plain": [
       "{1, 2, 3}"
      ]
     },
     "execution_count": 51,
     "metadata": {},
     "output_type": "execute_result"
    }
   ],
   "source": [
    "set() ^ set([1,2,3])"
   ]
  },
  {
   "cell_type": "code",
   "execution_count": 52,
   "metadata": {
    "id": "UMTOvfXmQPND"
   },
   "outputs": [
    {
     "data": {
      "text/plain": [
       "{2, 3}"
      ]
     },
     "execution_count": 52,
     "metadata": {},
     "output_type": "execute_result"
    }
   ],
   "source": [
    "set([1]) ^ set([1,2,3])"
   ]
  },
  {
   "cell_type": "code",
   "execution_count": 53,
   "metadata": {
    "id": "vebpdGBHQPNE"
   },
   "outputs": [
    {
     "data": {
      "text/plain": [
       "{3}"
      ]
     },
     "execution_count": 53,
     "metadata": {},
     "output_type": "execute_result"
    }
   ],
   "source": [
    "set([1, 2]) ^ set([1,2,3])"
   ]
  },
  {
   "cell_type": "markdown",
   "metadata": {
    "id": "Z4Wqhqv1QPNE"
   },
   "source": [
    "<div class=\"exercise\"><b>Exercise</b></div>\n",
    "\n",
    "Outline a step-forwards algorithm which uses this idea"
   ]
  },
  {
   "cell_type": "markdown",
   "metadata": {
    "id": "l8Kk4nOXQPNE"
   },
   "source": [
    "*your answer here*\n"
   ]
  },
  {
   "cell_type": "code",
   "execution_count": 70,
   "metadata": {},
   "outputs": [],
   "source": [
    "import statsmodels.api as sm\n",
    "\n",
    "def forward_selection(data, response, candidate_predictors):\n",
    "    remaining = set(candidate_predictors)\n",
    "    selected = set()\n",
    "    best_score = float('-inf')\n",
    "    best_model = None\n",
    "\n",
    "    while remaining:\n",
    "        scores_with_candidates = []\n",
    "\n",
    "        for candidate in remaining:\n",
    "            # Try adding this candidate to the current set\n",
    "            predictors = list(selected | {candidate})\n",
    "            X = sm.add_constant(data[predictors])\n",
    "            y = data[response]\n",
    "\n",
    "            model = sm.OLS(y, X).fit()\n",
    "            score = model.rsquared_adj  # or use model.aic, model.bic\n",
    "\n",
    "            scores_with_candidates.append((score, candidate, model))\n",
    "\n",
    "        # Find the best candidate this round\n",
    "        scores_with_candidates.sort(reverse=True)\n",
    "        best_new_score, best_candidate, model = scores_with_candidates[0]\n",
    "\n",
    "        # Check if this improves our model\n",
    "        if best_new_score > best_score:\n",
    "            remaining ^= {best_candidate}  # XOR: remove from remaining\n",
    "            selected ^= {best_candidate}   # XOR: add to selected\n",
    "            best_score = best_new_score\n",
    "            best_model = model\n",
    "        else:\n",
    "            break  # no improvement\n",
    "\n",
    "    return best_model, selected\n"
   ]
  }
 ],
 "metadata": {
  "colab": {
   "name": "lab1_Intro_to_ML_MPR.ipynb",
   "provenance": []
  },
  "kernelspec": {
   "display_name": "base",
   "language": "python",
   "name": "python3"
  },
  "language_info": {
   "codemirror_mode": {
    "name": "ipython",
    "version": 3
   },
   "file_extension": ".py",
   "mimetype": "text/x-python",
   "name": "python",
   "nbconvert_exporter": "python",
   "pygments_lexer": "ipython3",
   "version": "3.12.7"
  }
 },
 "nbformat": 4,
 "nbformat_minor": 1
}
